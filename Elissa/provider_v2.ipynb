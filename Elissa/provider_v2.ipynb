{
 "cells": [
  {
   "cell_type": "code",
   "execution_count": 15,
   "metadata": {},
   "outputs": [],
   "source": [
    "#Import tools\n",
    "import pandas as pd\n",
    "import numpy as np\n",
    "import matplotlib.pyplot as plt\n",
    "import seaborn as sns\n",
    "%matplotlib inline"
   ]
  },
  {
   "cell_type": "code",
   "execution_count": 22,
   "metadata": {},
   "outputs": [],
   "source": [
    "provider = pd.read_csv('../data/Medicare_Provider_Util_Payment_PUF_CY2017.txt',sep='\\t',\n",
    "                       usecols=['npi', 'nppes_entity_code', 'nppes_provider_zip', 'nppes_provider_state', \n",
    "                                 'provider_type', 'place_of_service', 'hcpcs_code', 'hcpcs_description', \n",
    "                                 'line_srvc_cnt', 'bene_unique_cnt', 'bene_day_srvc_cnt', 'average_Medicare_allowed_amt', \n",
    "                                 'average_Medicare_payment_amt'],dtype = {'nppes_provider_zip': 'str'})"
   ]
  },
  {
   "cell_type": "code",
   "execution_count": 24,
   "metadata": {
    "scrolled": false
   },
   "outputs": [
    {
     "data": {
      "text/html": [
       "<div>\n",
       "<style scoped>\n",
       "    .dataframe tbody tr th:only-of-type {\n",
       "        vertical-align: middle;\n",
       "    }\n",
       "\n",
       "    .dataframe tbody tr th {\n",
       "        vertical-align: top;\n",
       "    }\n",
       "\n",
       "    .dataframe thead th {\n",
       "        text-align: right;\n",
       "    }\n",
       "</style>\n",
       "<table border=\"1\" class=\"dataframe\">\n",
       "  <thead>\n",
       "    <tr style=\"text-align: right;\">\n",
       "      <th></th>\n",
       "      <th>npi</th>\n",
       "      <th>nppes_entity_code</th>\n",
       "      <th>nppes_provider_zip</th>\n",
       "      <th>nppes_provider_state</th>\n",
       "      <th>provider_type</th>\n",
       "      <th>place_of_service</th>\n",
       "      <th>hcpcs_code</th>\n",
       "      <th>hcpcs_description</th>\n",
       "      <th>line_srvc_cnt</th>\n",
       "      <th>bene_unique_cnt</th>\n",
       "      <th>bene_day_srvc_cnt</th>\n",
       "      <th>average_Medicare_allowed_amt</th>\n",
       "      <th>average_Medicare_payment_amt</th>\n",
       "    </tr>\n",
       "  </thead>\n",
       "  <tbody>\n",
       "    <tr>\n",
       "      <th>0</th>\n",
       "      <td>1003000126</td>\n",
       "      <td>I</td>\n",
       "      <td>215021854</td>\n",
       "      <td>MD</td>\n",
       "      <td>Internal Medicine</td>\n",
       "      <td>F</td>\n",
       "      <td>99217</td>\n",
       "      <td>Hospital observation care discharge</td>\n",
       "      <td>100.0</td>\n",
       "      <td>96.0</td>\n",
       "      <td>100.0</td>\n",
       "      <td>73.398800</td>\n",
       "      <td>56.827200</td>\n",
       "    </tr>\n",
       "    <tr>\n",
       "      <th>1</th>\n",
       "      <td>1003000126</td>\n",
       "      <td>I</td>\n",
       "      <td>215021854</td>\n",
       "      <td>MD</td>\n",
       "      <td>Internal Medicine</td>\n",
       "      <td>F</td>\n",
       "      <td>99218</td>\n",
       "      <td>Hospital observation care typically 30 minutes</td>\n",
       "      <td>26.0</td>\n",
       "      <td>25.0</td>\n",
       "      <td>26.0</td>\n",
       "      <td>100.080000</td>\n",
       "      <td>78.460000</td>\n",
       "    </tr>\n",
       "    <tr>\n",
       "      <th>2</th>\n",
       "      <td>1003000126</td>\n",
       "      <td>I</td>\n",
       "      <td>215021854</td>\n",
       "      <td>MD</td>\n",
       "      <td>Internal Medicine</td>\n",
       "      <td>F</td>\n",
       "      <td>99219</td>\n",
       "      <td>Hospital observation care typically 50 minutes</td>\n",
       "      <td>52.0</td>\n",
       "      <td>51.0</td>\n",
       "      <td>52.0</td>\n",
       "      <td>136.380000</td>\n",
       "      <td>102.807692</td>\n",
       "    </tr>\n",
       "    <tr>\n",
       "      <th>3</th>\n",
       "      <td>1003000126</td>\n",
       "      <td>I</td>\n",
       "      <td>215021854</td>\n",
       "      <td>MD</td>\n",
       "      <td>Internal Medicine</td>\n",
       "      <td>F</td>\n",
       "      <td>99220</td>\n",
       "      <td>Hospital observation care typically 70 minutes...</td>\n",
       "      <td>59.0</td>\n",
       "      <td>59.0</td>\n",
       "      <td>59.0</td>\n",
       "      <td>190.363729</td>\n",
       "      <td>141.293559</td>\n",
       "    </tr>\n",
       "    <tr>\n",
       "      <th>4</th>\n",
       "      <td>1003000126</td>\n",
       "      <td>I</td>\n",
       "      <td>215021854</td>\n",
       "      <td>MD</td>\n",
       "      <td>Internal Medicine</td>\n",
       "      <td>F</td>\n",
       "      <td>99221</td>\n",
       "      <td>Initial hospital inpatient care, typically 30 ...</td>\n",
       "      <td>16.0</td>\n",
       "      <td>16.0</td>\n",
       "      <td>16.0</td>\n",
       "      <td>101.680000</td>\n",
       "      <td>79.710000</td>\n",
       "    </tr>\n",
       "  </tbody>\n",
       "</table>\n",
       "</div>"
      ],
      "text/plain": [
       "          npi nppes_entity_code nppes_provider_zip nppes_provider_state  \\\n",
       "0  1003000126                 I          215021854                   MD   \n",
       "1  1003000126                 I          215021854                   MD   \n",
       "2  1003000126                 I          215021854                   MD   \n",
       "3  1003000126                 I          215021854                   MD   \n",
       "4  1003000126                 I          215021854                   MD   \n",
       "\n",
       "       provider_type place_of_service hcpcs_code  \\\n",
       "0  Internal Medicine                F      99217   \n",
       "1  Internal Medicine                F      99218   \n",
       "2  Internal Medicine                F      99219   \n",
       "3  Internal Medicine                F      99220   \n",
       "4  Internal Medicine                F      99221   \n",
       "\n",
       "                                   hcpcs_description  line_srvc_cnt  \\\n",
       "0                Hospital observation care discharge          100.0   \n",
       "1     Hospital observation care typically 30 minutes           26.0   \n",
       "2     Hospital observation care typically 50 minutes           52.0   \n",
       "3  Hospital observation care typically 70 minutes...           59.0   \n",
       "4  Initial hospital inpatient care, typically 30 ...           16.0   \n",
       "\n",
       "   bene_unique_cnt  bene_day_srvc_cnt  average_Medicare_allowed_amt  \\\n",
       "0             96.0              100.0                     73.398800   \n",
       "1             25.0               26.0                    100.080000   \n",
       "2             51.0               52.0                    136.380000   \n",
       "3             59.0               59.0                    190.363729   \n",
       "4             16.0               16.0                    101.680000   \n",
       "\n",
       "   average_Medicare_payment_amt  \n",
       "0                     56.827200  \n",
       "1                     78.460000  \n",
       "2                    102.807692  \n",
       "3                    141.293559  \n",
       "4                     79.710000  "
      ]
     },
     "execution_count": 24,
     "metadata": {},
     "output_type": "execute_result"
    }
   ],
   "source": [
    "provider=provider.drop(provider.index[0])\n",
    "provider=provider.reset_index(drop=True)\n",
    "provider.head(5)"
   ]
  },
  {
   "cell_type": "code",
   "execution_count": 25,
   "metadata": {
    "scrolled": true
   },
   "outputs": [
    {
     "data": {
      "text/plain": [
       "Index(['npi', 'nppes_entity_code', 'nppes_provider_zip',\n",
       "       'nppes_provider_state', 'provider_type', 'place_of_service',\n",
       "       'hcpcs_code', 'hcpcs_description', 'line_srvc_cnt', 'bene_unique_cnt',\n",
       "       'bene_day_srvc_cnt', 'average_Medicare_allowed_amt',\n",
       "       'average_Medicare_payment_amt'],\n",
       "      dtype='object')"
      ]
     },
     "execution_count": 25,
     "metadata": {},
     "output_type": "execute_result"
    }
   ],
   "source": [
    "provider.columns"
   ]
  },
  {
   "cell_type": "code",
   "execution_count": 26,
   "metadata": {
    "scrolled": true
   },
   "outputs": [
    {
     "name": "stdout",
     "output_type": "stream",
     "text": [
      "npi                               int64\n",
      "nppes_entity_code                object\n",
      "nppes_provider_zip               object\n",
      "nppes_provider_state             object\n",
      "provider_type                    object\n",
      "place_of_service                 object\n",
      "hcpcs_code                       object\n",
      "hcpcs_description                object\n",
      "line_srvc_cnt                   float64\n",
      "bene_unique_cnt                 float64\n",
      "bene_day_srvc_cnt               float64\n",
      "average_Medicare_allowed_amt    float64\n",
      "average_Medicare_payment_amt    float64\n",
      "dtype: object\n"
     ]
    }
   ],
   "source": [
    "print(provider.dtypes)"
   ]
  },
  {
   "cell_type": "code",
   "execution_count": 32,
   "metadata": {},
   "outputs": [
    {
     "data": {
      "text/plain": [
       "(9847443, 13)"
      ]
     },
     "execution_count": 32,
     "metadata": {},
     "output_type": "execute_result"
    }
   ],
   "source": [
    "provider.shape"
   ]
  },
  {
   "cell_type": "code",
   "execution_count": 35,
   "metadata": {
    "scrolled": true
   },
   "outputs": [
    {
     "name": "stdout",
     "output_type": "stream",
     "text": [
      "0    False\n",
      "1    False\n",
      "2    False\n",
      "3    False\n",
      "4    False\n",
      "Name: nppes_entity_code, dtype: bool\n"
     ]
    }
   ],
   "source": [
    "# does nppes_entity_type = O?\n",
    "# is_O is a boolean variable with True or False in it\n",
    "Ent_O =  provider['nppes_entity_code']=='O'\n",
    "print(Ent_O.head())"
   ]
  },
  {
   "cell_type": "code",
   "execution_count": 36,
   "metadata": {},
   "outputs": [
    {
     "name": "stdout",
     "output_type": "stream",
     "text": [
      "(431318, 13)\n"
     ]
    }
   ],
   "source": [
    "# filter rows for entity code = O using the boolean variable\n",
    "provider_entity = provider[Ent_O]\n",
    "print(provider_entity.shape)"
   ]
  },
  {
   "cell_type": "code",
   "execution_count": 34,
   "metadata": {
    "scrolled": true
   },
   "outputs": [
    {
     "data": {
      "text/html": [
       "<div>\n",
       "<style scoped>\n",
       "    .dataframe tbody tr th:only-of-type {\n",
       "        vertical-align: middle;\n",
       "    }\n",
       "\n",
       "    .dataframe tbody tr th {\n",
       "        vertical-align: top;\n",
       "    }\n",
       "\n",
       "    .dataframe thead th {\n",
       "        text-align: right;\n",
       "    }\n",
       "</style>\n",
       "<table border=\"1\" class=\"dataframe\">\n",
       "  <thead>\n",
       "    <tr style=\"text-align: right;\">\n",
       "      <th></th>\n",
       "      <th>npi</th>\n",
       "      <th>nppes_entity_code</th>\n",
       "      <th>nppes_provider_zip</th>\n",
       "      <th>nppes_provider_state</th>\n",
       "      <th>provider_type</th>\n",
       "      <th>place_of_service</th>\n",
       "      <th>hcpcs_code</th>\n",
       "      <th>hcpcs_description</th>\n",
       "      <th>line_srvc_cnt</th>\n",
       "      <th>bene_unique_cnt</th>\n",
       "      <th>bene_day_srvc_cnt</th>\n",
       "      <th>average_Medicare_allowed_amt</th>\n",
       "      <th>average_Medicare_payment_amt</th>\n",
       "    </tr>\n",
       "  </thead>\n",
       "  <tbody>\n",
       "    <tr>\n",
       "      <th>210</th>\n",
       "      <td>1003001322</td>\n",
       "      <td>O</td>\n",
       "      <td>644681610</td>\n",
       "      <td>MO</td>\n",
       "      <td>Mass Immunizer Roster Biller</td>\n",
       "      <td>O</td>\n",
       "      <td>90662</td>\n",
       "      <td>Vaccine for influenza for injection into muscle</td>\n",
       "      <td>189.0</td>\n",
       "      <td>188.0</td>\n",
       "      <td>189.0</td>\n",
       "      <td>48.829683</td>\n",
       "      <td>47.85381</td>\n",
       "    </tr>\n",
       "    <tr>\n",
       "      <th>211</th>\n",
       "      <td>1003001322</td>\n",
       "      <td>O</td>\n",
       "      <td>644681610</td>\n",
       "      <td>MO</td>\n",
       "      <td>Mass Immunizer Roster Biller</td>\n",
       "      <td>O</td>\n",
       "      <td>90670</td>\n",
       "      <td>Pneumococcal vaccine for injection into muscle</td>\n",
       "      <td>25.0</td>\n",
       "      <td>25.0</td>\n",
       "      <td>25.0</td>\n",
       "      <td>180.000000</td>\n",
       "      <td>176.40000</td>\n",
       "    </tr>\n",
       "    <tr>\n",
       "      <th>212</th>\n",
       "      <td>1003001322</td>\n",
       "      <td>O</td>\n",
       "      <td>644681610</td>\n",
       "      <td>MO</td>\n",
       "      <td>Mass Immunizer Roster Biller</td>\n",
       "      <td>O</td>\n",
       "      <td>90686</td>\n",
       "      <td>Vaccine for influenza for administration into ...</td>\n",
       "      <td>14.0</td>\n",
       "      <td>14.0</td>\n",
       "      <td>14.0</td>\n",
       "      <td>19.030000</td>\n",
       "      <td>18.65000</td>\n",
       "    </tr>\n",
       "    <tr>\n",
       "      <th>213</th>\n",
       "      <td>1003001322</td>\n",
       "      <td>O</td>\n",
       "      <td>644681610</td>\n",
       "      <td>MO</td>\n",
       "      <td>Mass Immunizer Roster Biller</td>\n",
       "      <td>O</td>\n",
       "      <td>G0008</td>\n",
       "      <td>Administration of influenza virus vaccine</td>\n",
       "      <td>203.0</td>\n",
       "      <td>202.0</td>\n",
       "      <td>203.0</td>\n",
       "      <td>23.040000</td>\n",
       "      <td>22.58000</td>\n",
       "    </tr>\n",
       "    <tr>\n",
       "      <th>214</th>\n",
       "      <td>1003001322</td>\n",
       "      <td>O</td>\n",
       "      <td>644681610</td>\n",
       "      <td>MO</td>\n",
       "      <td>Mass Immunizer Roster Biller</td>\n",
       "      <td>O</td>\n",
       "      <td>G0009</td>\n",
       "      <td>Administration of pneumococcal vaccine</td>\n",
       "      <td>25.0</td>\n",
       "      <td>25.0</td>\n",
       "      <td>25.0</td>\n",
       "      <td>20.000000</td>\n",
       "      <td>19.60000</td>\n",
       "    </tr>\n",
       "  </tbody>\n",
       "</table>\n",
       "</div>"
      ],
      "text/plain": [
       "            npi nppes_entity_code nppes_provider_zip nppes_provider_state  \\\n",
       "210  1003001322                 O          644681610                   MO   \n",
       "211  1003001322                 O          644681610                   MO   \n",
       "212  1003001322                 O          644681610                   MO   \n",
       "213  1003001322                 O          644681610                   MO   \n",
       "214  1003001322                 O          644681610                   MO   \n",
       "\n",
       "                    provider_type place_of_service hcpcs_code  \\\n",
       "210  Mass Immunizer Roster Biller                O      90662   \n",
       "211  Mass Immunizer Roster Biller                O      90670   \n",
       "212  Mass Immunizer Roster Biller                O      90686   \n",
       "213  Mass Immunizer Roster Biller                O      G0008   \n",
       "214  Mass Immunizer Roster Biller                O      G0009   \n",
       "\n",
       "                                     hcpcs_description  line_srvc_cnt  \\\n",
       "210    Vaccine for influenza for injection into muscle          189.0   \n",
       "211     Pneumococcal vaccine for injection into muscle           25.0   \n",
       "212  Vaccine for influenza for administration into ...           14.0   \n",
       "213          Administration of influenza virus vaccine          203.0   \n",
       "214             Administration of pneumococcal vaccine           25.0   \n",
       "\n",
       "     bene_unique_cnt  bene_day_srvc_cnt  average_Medicare_allowed_amt  \\\n",
       "210            188.0              189.0                     48.829683   \n",
       "211             25.0               25.0                    180.000000   \n",
       "212             14.0               14.0                     19.030000   \n",
       "213            202.0              203.0                     23.040000   \n",
       "214             25.0               25.0                     20.000000   \n",
       "\n",
       "     average_Medicare_payment_amt  \n",
       "210                      47.85381  \n",
       "211                     176.40000  \n",
       "212                      18.65000  \n",
       "213                      22.58000  \n",
       "214                      19.60000  "
      ]
     },
     "execution_count": 34,
     "metadata": {},
     "output_type": "execute_result"
    }
   ],
   "source": [
    "provider_entity.head()"
   ]
  },
  {
   "cell_type": "code",
   "execution_count": 39,
   "metadata": {},
   "outputs": [
    {
     "name": "stdout",
     "output_type": "stream",
     "text": [
      "210    False\n",
      "211    False\n",
      "212    False\n",
      "213    False\n",
      "214    False\n",
      "Name: provider_type, dtype: bool\n"
     ]
    }
   ],
   "source": [
    "# does provider type = Ambulatory Surgical Center?\n",
    "# is_Ambulatory Surgical Center is a boolean variable with True or False in it\n",
    "provider_ASC =  provider_entity['provider_type']=='Ambulatory Surgical Center'\n",
    "print(provider_ASC.head())\n"
   ]
  },
  {
   "cell_type": "code",
   "execution_count": 40,
   "metadata": {},
   "outputs": [
    {
     "name": "stderr",
     "output_type": "stream",
     "text": [
      "C:\\Users\\newla\\anaconda3\\lib\\site-packages\\ipykernel_launcher.py:2: UserWarning: Boolean Series key will be reindexed to match DataFrame index.\n",
      "  \n"
     ]
    },
    {
     "ename": "IndexingError",
     "evalue": "Unalignable boolean Series provided as indexer (index of the boolean Series and of the indexed object do not match).",
     "output_type": "error",
     "traceback": [
      "\u001b[1;31m---------------------------------------------------------------------------\u001b[0m",
      "\u001b[1;31mIndexingError\u001b[0m                             Traceback (most recent call last)",
      "\u001b[1;32m<ipython-input-40-7cc4ef41f7b8>\u001b[0m in \u001b[0;36m<module>\u001b[1;34m\u001b[0m\n\u001b[0;32m      1\u001b[0m \u001b[1;31m# filter rows for provider type = Ambulatory Surgical Center = O using the boolean variable\u001b[0m\u001b[1;33m\u001b[0m\u001b[1;33m\u001b[0m\u001b[1;33m\u001b[0m\u001b[0m\n\u001b[1;32m----> 2\u001b[1;33m \u001b[0mprovider_ent_type\u001b[0m \u001b[1;33m=\u001b[0m \u001b[0mprovider\u001b[0m\u001b[1;33m[\u001b[0m\u001b[0mprovider_ASC\u001b[0m\u001b[1;33m]\u001b[0m\u001b[1;33m\u001b[0m\u001b[1;33m\u001b[0m\u001b[0m\n\u001b[0m\u001b[0;32m      3\u001b[0m \u001b[0mprint\u001b[0m\u001b[1;33m(\u001b[0m\u001b[0mprovider_ent_type\u001b[0m\u001b[1;33m.\u001b[0m\u001b[0mshape\u001b[0m\u001b[1;33m)\u001b[0m\u001b[1;33m\u001b[0m\u001b[1;33m\u001b[0m\u001b[0m\n",
      "\u001b[1;32m~\\anaconda3\\lib\\site-packages\\pandas\\core\\frame.py\u001b[0m in \u001b[0;36m__getitem__\u001b[1;34m(self, key)\u001b[0m\n\u001b[0;32m   2789\u001b[0m         \u001b[1;31m# Do we have a (boolean) 1d indexer?\u001b[0m\u001b[1;33m\u001b[0m\u001b[1;33m\u001b[0m\u001b[1;33m\u001b[0m\u001b[0m\n\u001b[0;32m   2790\u001b[0m         \u001b[1;32mif\u001b[0m \u001b[0mcom\u001b[0m\u001b[1;33m.\u001b[0m\u001b[0mis_bool_indexer\u001b[0m\u001b[1;33m(\u001b[0m\u001b[0mkey\u001b[0m\u001b[1;33m)\u001b[0m\u001b[1;33m:\u001b[0m\u001b[1;33m\u001b[0m\u001b[1;33m\u001b[0m\u001b[0m\n\u001b[1;32m-> 2791\u001b[1;33m             \u001b[1;32mreturn\u001b[0m \u001b[0mself\u001b[0m\u001b[1;33m.\u001b[0m\u001b[0m_getitem_bool_array\u001b[0m\u001b[1;33m(\u001b[0m\u001b[0mkey\u001b[0m\u001b[1;33m)\u001b[0m\u001b[1;33m\u001b[0m\u001b[1;33m\u001b[0m\u001b[0m\n\u001b[0m\u001b[0;32m   2792\u001b[0m \u001b[1;33m\u001b[0m\u001b[0m\n\u001b[0;32m   2793\u001b[0m         \u001b[1;31m# We are left with two options: a single key, and a collection of keys,\u001b[0m\u001b[1;33m\u001b[0m\u001b[1;33m\u001b[0m\u001b[1;33m\u001b[0m\u001b[0m\n",
      "\u001b[1;32m~\\anaconda3\\lib\\site-packages\\pandas\\core\\frame.py\u001b[0m in \u001b[0;36m_getitem_bool_array\u001b[1;34m(self, key)\u001b[0m\n\u001b[0;32m   2841\u001b[0m         \u001b[1;31m# check_bool_indexer will throw exception if Series key cannot\u001b[0m\u001b[1;33m\u001b[0m\u001b[1;33m\u001b[0m\u001b[1;33m\u001b[0m\u001b[0m\n\u001b[0;32m   2842\u001b[0m         \u001b[1;31m# be reindexed to match DataFrame rows\u001b[0m\u001b[1;33m\u001b[0m\u001b[1;33m\u001b[0m\u001b[1;33m\u001b[0m\u001b[0m\n\u001b[1;32m-> 2843\u001b[1;33m         \u001b[0mkey\u001b[0m \u001b[1;33m=\u001b[0m \u001b[0mcheck_bool_indexer\u001b[0m\u001b[1;33m(\u001b[0m\u001b[0mself\u001b[0m\u001b[1;33m.\u001b[0m\u001b[0mindex\u001b[0m\u001b[1;33m,\u001b[0m \u001b[0mkey\u001b[0m\u001b[1;33m)\u001b[0m\u001b[1;33m\u001b[0m\u001b[1;33m\u001b[0m\u001b[0m\n\u001b[0m\u001b[0;32m   2844\u001b[0m         \u001b[0mindexer\u001b[0m \u001b[1;33m=\u001b[0m \u001b[0mkey\u001b[0m\u001b[1;33m.\u001b[0m\u001b[0mnonzero\u001b[0m\u001b[1;33m(\u001b[0m\u001b[1;33m)\u001b[0m\u001b[1;33m[\u001b[0m\u001b[1;36m0\u001b[0m\u001b[1;33m]\u001b[0m\u001b[1;33m\u001b[0m\u001b[1;33m\u001b[0m\u001b[0m\n\u001b[0;32m   2845\u001b[0m         \u001b[1;32mreturn\u001b[0m \u001b[0mself\u001b[0m\u001b[1;33m.\u001b[0m\u001b[0m_take_with_is_copy\u001b[0m\u001b[1;33m(\u001b[0m\u001b[0mindexer\u001b[0m\u001b[1;33m,\u001b[0m \u001b[0maxis\u001b[0m\u001b[1;33m=\u001b[0m\u001b[1;36m0\u001b[0m\u001b[1;33m)\u001b[0m\u001b[1;33m\u001b[0m\u001b[1;33m\u001b[0m\u001b[0m\n",
      "\u001b[1;32m~\\anaconda3\\lib\\site-packages\\pandas\\core\\indexing.py\u001b[0m in \u001b[0;36mcheck_bool_indexer\u001b[1;34m(index, key)\u001b[0m\n\u001b[0;32m   2315\u001b[0m         \u001b[1;32mif\u001b[0m \u001b[0mmask\u001b[0m\u001b[1;33m.\u001b[0m\u001b[0many\u001b[0m\u001b[1;33m(\u001b[0m\u001b[1;33m)\u001b[0m\u001b[1;33m:\u001b[0m\u001b[1;33m\u001b[0m\u001b[1;33m\u001b[0m\u001b[0m\n\u001b[0;32m   2316\u001b[0m             raise IndexingError(\n\u001b[1;32m-> 2317\u001b[1;33m                 \u001b[1;34m\"Unalignable boolean Series provided as \"\u001b[0m\u001b[1;33m\u001b[0m\u001b[1;33m\u001b[0m\u001b[0m\n\u001b[0m\u001b[0;32m   2318\u001b[0m                 \u001b[1;34m\"indexer (index of the boolean Series and of \"\u001b[0m\u001b[1;33m\u001b[0m\u001b[1;33m\u001b[0m\u001b[0m\n\u001b[0;32m   2319\u001b[0m                 \u001b[1;34m\"the indexed object do not match).\"\u001b[0m\u001b[1;33m\u001b[0m\u001b[1;33m\u001b[0m\u001b[0m\n",
      "\u001b[1;31mIndexingError\u001b[0m: Unalignable boolean Series provided as indexer (index of the boolean Series and of the indexed object do not match)."
     ]
    }
   ],
   "source": [
    "# filter rows for provider type = Ambulatory Surgical Center = O using the boolean variable\n",
    "provider_ent_type = provider[provider_ASC]\n",
    "print(provider_ent_type.shape)"
   ]
  }
 ],
 "metadata": {
  "kernelspec": {
   "display_name": "Python 3",
   "language": "python",
   "name": "python3"
  },
  "language_info": {
   "codemirror_mode": {
    "name": "ipython",
    "version": 3
   },
   "file_extension": ".py",
   "mimetype": "text/x-python",
   "name": "python",
   "nbconvert_exporter": "python",
   "pygments_lexer": "ipython3",
   "version": "3.7.6"
  }
 },
 "nbformat": 4,
 "nbformat_minor": 4
}
