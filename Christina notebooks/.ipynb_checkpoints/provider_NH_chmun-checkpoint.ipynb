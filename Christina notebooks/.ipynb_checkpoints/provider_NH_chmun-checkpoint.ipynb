{
 "cells": [
  {
   "cell_type": "code",
   "execution_count": 1,
   "metadata": {},
   "outputs": [],
   "source": [
    "import pandas as pd\n",
    "import numpy as np\n",
    "import seaborn as sns\n",
    "import matplotlib.pyplot as plt\n",
    "from IPython.display import display\n",
    "%matplotlib inline"
   ]
  },
  {
   "cell_type": "code",
   "execution_count": 2,
   "metadata": {},
   "outputs": [],
   "source": [
    "df = pd.read_csv('hcpcs_apc.csv', dtype='str')"
   ]
  },
  {
   "cell_type": "code",
   "execution_count": 3,
   "metadata": {},
   "outputs": [
    {
     "name": "stdout",
     "output_type": "stream",
     "text": [
      "<class 'pandas.core.frame.DataFrame'>\n",
      "Int64Index: 59 entries, 1875 to 5170\n",
      "Data columns (total 2 columns):\n",
      " #   Column      Non-Null Count  Dtype \n",
      "---  ------      --------------  ----- \n",
      " 0   hcpcs_code  59 non-null     object\n",
      " 1   APC         59 non-null     object\n",
      "dtypes: object(2)\n",
      "memory usage: 1.4+ KB\n"
     ]
    }
   ],
   "source": [
    "apc_5302_hcpcs =df[df['APC']== '5302']\n",
    "apc_5302_hcpcs.info()"
   ]
  },
  {
   "cell_type": "code",
   "execution_count": 4,
   "metadata": {},
   "outputs": [
    {
     "data": {
      "text/plain": [
       "(59,)"
      ]
     },
     "execution_count": 4,
     "metadata": {},
     "output_type": "execute_result"
    }
   ],
   "source": [
    "#find unique hcpcs code for APC 5302\n",
    "uni_hcpcs_apc5302 = apc_5302_hcpcs['hcpcs_code'].unique()\n",
    "uni_hcpcs_apc5302.shape"
   ]
  },
  {
   "cell_type": "code",
   "execution_count": 5,
   "metadata": {},
   "outputs": [
    {
     "data": {
      "text/html": [
       "<div>\n",
       "<style scoped>\n",
       "    .dataframe tbody tr th:only-of-type {\n",
       "        vertical-align: middle;\n",
       "    }\n",
       "\n",
       "    .dataframe tbody tr th {\n",
       "        vertical-align: top;\n",
       "    }\n",
       "\n",
       "    .dataframe thead th {\n",
       "        text-align: right;\n",
       "    }\n",
       "</style>\n",
       "<table border=\"1\" class=\"dataframe\">\n",
       "  <thead>\n",
       "    <tr style=\"text-align: right;\">\n",
       "      <th></th>\n",
       "      <th>npi</th>\n",
       "      <th>np_last_orgname</th>\n",
       "      <th>np_entity_code</th>\n",
       "      <th>np_city</th>\n",
       "      <th>np_state</th>\n",
       "      <th>p_type</th>\n",
       "      <th>place_of_service</th>\n",
       "      <th>HCPCS</th>\n",
       "      <th>hcpcs_description</th>\n",
       "      <th>unique_beneficiary</th>\n",
       "      <th>bene_day_srvc_cnt</th>\n",
       "      <th>avg_medicare_allowed</th>\n",
       "      <th>avg_medicare_pymt</th>\n",
       "      <th>ZIP</th>\n",
       "    </tr>\n",
       "  </thead>\n",
       "  <tbody>\n",
       "    <tr>\n",
       "      <th>0</th>\n",
       "      <td>1003015843</td>\n",
       "      <td>NORTHBAY PHYSICIAN'S SURGERY CENTER, L.L.C.</td>\n",
       "      <td>O</td>\n",
       "      <td>VACAVILLE</td>\n",
       "      <td>CA</td>\n",
       "      <td>Ambulatory Surgical Center</td>\n",
       "      <td>F</td>\n",
       "      <td>0191T</td>\n",
       "      <td>Internal insertion of eye fluid drainage device</td>\n",
       "      <td>11</td>\n",
       "      <td>13</td>\n",
       "      <td>3042.237692</td>\n",
       "      <td>2385.113846</td>\n",
       "      <td>95687</td>\n",
       "    </tr>\n",
       "    <tr>\n",
       "      <th>1</th>\n",
       "      <td>1003015843</td>\n",
       "      <td>NORTHBAY PHYSICIAN'S SURGERY CENTER, L.L.C.</td>\n",
       "      <td>O</td>\n",
       "      <td>VACAVILLE</td>\n",
       "      <td>CA</td>\n",
       "      <td>Ambulatory Surgical Center</td>\n",
       "      <td>F</td>\n",
       "      <td>20610</td>\n",
       "      <td>Aspiration and/or injection of large joint or ...</td>\n",
       "      <td>14</td>\n",
       "      <td>15</td>\n",
       "      <td>26.260000</td>\n",
       "      <td>20.588947</td>\n",
       "      <td>95687</td>\n",
       "    </tr>\n",
       "    <tr>\n",
       "      <th>2</th>\n",
       "      <td>1003015843</td>\n",
       "      <td>NORTHBAY PHYSICIAN'S SURGERY CENTER, L.L.C.</td>\n",
       "      <td>O</td>\n",
       "      <td>VACAVILLE</td>\n",
       "      <td>CA</td>\n",
       "      <td>Ambulatory Surgical Center</td>\n",
       "      <td>F</td>\n",
       "      <td>29823</td>\n",
       "      <td>Extensive removal of shoulder joint tissue usi...</td>\n",
       "      <td>15</td>\n",
       "      <td>15</td>\n",
       "      <td>837.130000</td>\n",
       "      <td>656.310000</td>\n",
       "      <td>95687</td>\n",
       "    </tr>\n",
       "    <tr>\n",
       "      <th>3</th>\n",
       "      <td>1003015843</td>\n",
       "      <td>NORTHBAY PHYSICIAN'S SURGERY CENTER, L.L.C.</td>\n",
       "      <td>O</td>\n",
       "      <td>VACAVILLE</td>\n",
       "      <td>CA</td>\n",
       "      <td>Ambulatory Surgical Center</td>\n",
       "      <td>F</td>\n",
       "      <td>29824</td>\n",
       "      <td>Partial removal of collar bone at shoulder usi...</td>\n",
       "      <td>14</td>\n",
       "      <td>14</td>\n",
       "      <td>1016.512857</td>\n",
       "      <td>796.945714</td>\n",
       "      <td>95687</td>\n",
       "    </tr>\n",
       "    <tr>\n",
       "      <th>4</th>\n",
       "      <td>1003015843</td>\n",
       "      <td>NORTHBAY PHYSICIAN'S SURGERY CENTER, L.L.C.</td>\n",
       "      <td>O</td>\n",
       "      <td>VACAVILLE</td>\n",
       "      <td>CA</td>\n",
       "      <td>Ambulatory Surgical Center</td>\n",
       "      <td>F</td>\n",
       "      <td>29827</td>\n",
       "      <td>Repair of shoulder rotator cuff using an endos...</td>\n",
       "      <td>22</td>\n",
       "      <td>22</td>\n",
       "      <td>3391.399545</td>\n",
       "      <td>2652.337273</td>\n",
       "      <td>95687</td>\n",
       "    </tr>\n",
       "  </tbody>\n",
       "</table>\n",
       "</div>"
      ],
      "text/plain": [
       "          npi                              np_last_orgname np_entity_code  \\\n",
       "0  1003015843  NORTHBAY PHYSICIAN'S SURGERY CENTER, L.L.C.              O   \n",
       "1  1003015843  NORTHBAY PHYSICIAN'S SURGERY CENTER, L.L.C.              O   \n",
       "2  1003015843  NORTHBAY PHYSICIAN'S SURGERY CENTER, L.L.C.              O   \n",
       "3  1003015843  NORTHBAY PHYSICIAN'S SURGERY CENTER, L.L.C.              O   \n",
       "4  1003015843  NORTHBAY PHYSICIAN'S SURGERY CENTER, L.L.C.              O   \n",
       "\n",
       "     np_city np_state                      p_type place_of_service  HCPCS  \\\n",
       "0  VACAVILLE       CA  Ambulatory Surgical Center                F  0191T   \n",
       "1  VACAVILLE       CA  Ambulatory Surgical Center                F  20610   \n",
       "2  VACAVILLE       CA  Ambulatory Surgical Center                F  29823   \n",
       "3  VACAVILLE       CA  Ambulatory Surgical Center                F  29824   \n",
       "4  VACAVILLE       CA  Ambulatory Surgical Center                F  29827   \n",
       "\n",
       "                                   hcpcs_description  unique_beneficiary  \\\n",
       "0    Internal insertion of eye fluid drainage device                  11   \n",
       "1  Aspiration and/or injection of large joint or ...                  14   \n",
       "2  Extensive removal of shoulder joint tissue usi...                  15   \n",
       "3  Partial removal of collar bone at shoulder usi...                  14   \n",
       "4  Repair of shoulder rotator cuff using an endos...                  22   \n",
       "\n",
       "   bene_day_srvc_cnt  avg_medicare_allowed  avg_medicare_pymt    ZIP  \n",
       "0                 13           3042.237692        2385.113846  95687  \n",
       "1                 15             26.260000          20.588947  95687  \n",
       "2                 15            837.130000         656.310000  95687  \n",
       "3                 14           1016.512857         796.945714  95687  \n",
       "4                 22           3391.399545        2652.337273  95687  "
      ]
     },
     "execution_count": 5,
     "metadata": {},
     "output_type": "execute_result"
    }
   ],
   "source": [
    "# only this combination of entity type \"O\" and place of service \"F\" has provider type \"Ambulatory Surgical Center\"\n",
    "#provider_ASC.csv is for entity type \"O\", place of service \"F\", and provider type \"Ambulatory Surgical Center\"\n",
    "provider_ASC = pd.read_csv('provider_ASC.csv', dtype={'npi':'str', 'ZIP':'str','HCPCS':'category'})\n",
    "provider_ASC.head()"
   ]
  },
  {
   "cell_type": "code",
   "execution_count": 6,
   "metadata": {},
   "outputs": [],
   "source": [
    "unique_hcpcs_list_apc_5302 =['32556', '43191', '43192', '43193', '43194', '43201', '43202',\n",
    "       '43204', '43205', '43206', '43211', '43213', '43214', '43215',\n",
    "       '43216', '43217', '43220', '43226', '43227', '43231', '43232',\n",
    "       '43233', '43237', '43238', '43241', '43242', '43243', '43244',\n",
    "       '43245', '43246', '43249', '43250', '43251', '43253', '43254',\n",
    "       '43255', '43259', '43270', '43453', '43830', '44360', '44361',\n",
    "       '44363', '44364', '44365', '44366', '44369', '44372', '44373',\n",
    "       '44376', '44377', '44378', '44381', '49423', '49436', '49440',\n",
    "       '49441', '49446', '0355T']"
   ]
  },
  {
   "cell_type": "code",
   "execution_count": 7,
   "metadata": {},
   "outputs": [],
   "source": [
    "#Providers with all hcpcs code that have correspondent APC- 5302\n",
    "provider_ASC_5302 =provider_ASC[provider_ASC.HCPCS.isin(unique_hcpcs_list_apc_5302)]"
   ]
  },
  {
   "cell_type": "code",
   "execution_count": 8,
   "metadata": {},
   "outputs": [
    {
     "name": "stdout",
     "output_type": "stream",
     "text": [
      "<class 'pandas.core.frame.DataFrame'>\n",
      "Int64Index: 1187 entries, 9 to 57276\n",
      "Data columns (total 14 columns):\n",
      " #   Column                Non-Null Count  Dtype   \n",
      "---  ------                --------------  -----   \n",
      " 0   npi                   1187 non-null   object  \n",
      " 1   np_last_orgname       1187 non-null   object  \n",
      " 2   np_entity_code        1187 non-null   object  \n",
      " 3   np_city               1187 non-null   object  \n",
      " 4   np_state              1187 non-null   object  \n",
      " 5   p_type                1187 non-null   object  \n",
      " 6   place_of_service      1187 non-null   object  \n",
      " 7   HCPCS                 1187 non-null   category\n",
      " 8   hcpcs_description     1187 non-null   object  \n",
      " 9   unique_beneficiary    1187 non-null   int64   \n",
      " 10  bene_day_srvc_cnt     1187 non-null   int64   \n",
      " 11  avg_medicare_allowed  1187 non-null   float64 \n",
      " 12  avg_medicare_pymt     1187 non-null   float64 \n",
      " 13  ZIP                   1187 non-null   object  \n",
      "dtypes: category(1), float64(2), int64(2), object(9)\n",
      "memory usage: 179.5+ KB\n"
     ]
    }
   ],
   "source": [
    "provider_ASC_5302.info()"
   ]
  },
  {
   "cell_type": "markdown",
   "metadata": {},
   "source": [
    "#### Rename columns - Providers(non-hospital) with related APC 5302"
   ]
  },
  {
   "cell_type": "code",
   "execution_count": 54,
   "metadata": {},
   "outputs": [],
   "source": [
    "#provider_ASC_5302.columns.values\n",
    "provider_ASC_5302 = provider_ASC_5302.rename(columns={'np_last_orgname':'Provider','np_city':'Provider_City','np_state':'Provider_State',\n",
    "                                            'bene_day_srvc_cnt':'Beneficiary_Per_Day_Service_Count', 'avg_medicare_allowed':'Average_Medicare_Allowed_Amount',\n",
    "                                            'avg_medicare_pymt':'Average_Medicare_Payment'}) "
   ]
  },
  {
   "cell_type": "code",
   "execution_count": 58,
   "metadata": {},
   "outputs": [],
   "source": [
    "#Drop columns:'np_entity_code','p_type','place_of_service','hcpcs_description','unique_beneficiary'\n",
    "provider_ASC_5302 = provider_ASC_5302.drop(['np_entity_code','p_type','place_of_service','hcpcs_description','unique_beneficiary'], axis=1)"
   ]
  },
  {
   "cell_type": "code",
   "execution_count": 67,
   "metadata": {},
   "outputs": [
    {
     "name": "stdout",
     "output_type": "stream",
     "text": [
      "<class 'pandas.core.frame.DataFrame'>\n",
      "Int64Index: 1187 entries, 9 to 57276\n",
      "Data columns (total 9 columns):\n",
      " #   Column                             Non-Null Count  Dtype   \n",
      "---  ------                             --------------  -----   \n",
      " 0   npi                                1187 non-null   object  \n",
      " 1   Provider                           1187 non-null   object  \n",
      " 2   Provider_City                      1187 non-null   object  \n",
      " 3   Provider_State                     1187 non-null   object  \n",
      " 4   HCPCS                              1187 non-null   category\n",
      " 5   Beneficiary_Per_Day_Service_Count  1187 non-null   int64   \n",
      " 6   Average_Medicare_Allowed_Amount    1187 non-null   float64 \n",
      " 7   Average_Medicare_Payment           1187 non-null   float64 \n",
      " 8   ZIP                                1187 non-null   object  \n",
      "dtypes: category(1), float64(2), int64(1), object(5)\n",
      "memory usage: 173.2+ KB\n"
     ]
    }
   ],
   "source": [
    "provider_ASC_5302.info()"
   ]
  },
  {
   "cell_type": "code",
   "execution_count": 87,
   "metadata": {},
   "outputs": [
    {
     "data": {
      "text/html": [
       "<div>\n",
       "<style scoped>\n",
       "    .dataframe tbody tr th:only-of-type {\n",
       "        vertical-align: middle;\n",
       "    }\n",
       "\n",
       "    .dataframe tbody tr th {\n",
       "        vertical-align: top;\n",
       "    }\n",
       "\n",
       "    .dataframe thead th {\n",
       "        text-align: right;\n",
       "    }\n",
       "</style>\n",
       "<table border=\"1\" class=\"dataframe\">\n",
       "  <thead>\n",
       "    <tr style=\"text-align: right;\">\n",
       "      <th></th>\n",
       "      <th>CBSA</th>\n",
       "      <th>zip</th>\n",
       "    </tr>\n",
       "  </thead>\n",
       "  <tbody>\n",
       "    <tr>\n",
       "      <th>0</th>\n",
       "      <td>35620</td>\n",
       "      <td>00501</td>\n",
       "    </tr>\n",
       "    <tr>\n",
       "      <th>1</th>\n",
       "      <td>38660</td>\n",
       "      <td>00601</td>\n",
       "    </tr>\n",
       "    <tr>\n",
       "      <th>2</th>\n",
       "      <td>10380</td>\n",
       "      <td>00602</td>\n",
       "    </tr>\n",
       "    <tr>\n",
       "      <th>3</th>\n",
       "      <td>10380</td>\n",
       "      <td>00603</td>\n",
       "    </tr>\n",
       "    <tr>\n",
       "      <th>4</th>\n",
       "      <td>10380</td>\n",
       "      <td>00604</td>\n",
       "    </tr>\n",
       "    <tr>\n",
       "      <th>...</th>\n",
       "      <td>...</td>\n",
       "      <td>...</td>\n",
       "    </tr>\n",
       "    <tr>\n",
       "      <th>47410</th>\n",
       "      <td>99999</td>\n",
       "      <td>99925</td>\n",
       "    </tr>\n",
       "    <tr>\n",
       "      <th>47411</th>\n",
       "      <td>99999</td>\n",
       "      <td>99926</td>\n",
       "    </tr>\n",
       "    <tr>\n",
       "      <th>47412</th>\n",
       "      <td>99999</td>\n",
       "      <td>99927</td>\n",
       "    </tr>\n",
       "    <tr>\n",
       "      <th>47413</th>\n",
       "      <td>28540</td>\n",
       "      <td>99928</td>\n",
       "    </tr>\n",
       "    <tr>\n",
       "      <th>47414</th>\n",
       "      <td>99999</td>\n",
       "      <td>99929</td>\n",
       "    </tr>\n",
       "  </tbody>\n",
       "</table>\n",
       "<p>47415 rows × 2 columns</p>\n",
       "</div>"
      ],
      "text/plain": [
       "        CBSA    zip\n",
       "0      35620  00501\n",
       "1      38660  00601\n",
       "2      10380  00602\n",
       "3      10380  00603\n",
       "4      10380  00604\n",
       "...      ...    ...\n",
       "47410  99999  99925\n",
       "47411  99999  99926\n",
       "47412  99999  99927\n",
       "47413  28540  99928\n",
       "47414  99999  99929\n",
       "\n",
       "[47415 rows x 2 columns]"
      ]
     },
     "execution_count": 87,
     "metadata": {},
     "output_type": "execute_result"
    }
   ],
   "source": [
    "cbsa_df = pd.read_csv('zip_cbsa.csv', dtype='str')\n",
    "cbsa_df"
   ]
  },
  {
   "cell_type": "markdown",
   "metadata": {},
   "source": [
    "#### Save Provider_ASC_5302 to CSV filename: 'Provider_5302.csv'"
   ]
  },
  {
   "cell_type": "code",
   "execution_count": 68,
   "metadata": {},
   "outputs": [],
   "source": [
    "provider_ASC_5302.to_csv('provider_5302.csv', index=False)"
   ]
  },
  {
   "cell_type": "code",
   "execution_count": 69,
   "metadata": {},
   "outputs": [
    {
     "data": {
      "text/plain": [
       "(616, 9)"
      ]
     },
     "execution_count": 69,
     "metadata": {},
     "output_type": "execute_result"
    }
   ],
   "source": [
    "provider_ASC_5302[provider_ASC_5302['HCPCS'] =='43249'].shape"
   ]
  },
  {
   "cell_type": "code",
   "execution_count": 70,
   "metadata": {},
   "outputs": [],
   "source": [
    "provider_hcpcs_43249=provider_ASC_5302[provider_ASC_5302['HCPCS'] =='43249']"
   ]
  },
  {
   "cell_type": "code",
   "execution_count": 71,
   "metadata": {},
   "outputs": [
    {
     "data": {
      "image/png": "[encoded data removed]",
      "text/plain": [
       "<Figure size 1440x720 with 1 Axes>"
      ]
     },
     "metadata": {
      "needs_background": "light"
     },
     "output_type": "display_data"
    }
   ],
   "source": [
    "#sns.set()hue=\"ZIP\",\n",
    "# Load the example planets dataset\n",
    "#planets = sns.load_dataset(\"provider_hcpcs_43249\")\n",
    "plt.figure(figsize=(20,10))\n",
    "cmap = sns.cubehelix_palette(rot=-.4, as_cmap=True)\n",
    "ax = sns.scatterplot(x='Provider_State', y='Average_Medicare_Allowed_Amount', palette=cmap, sizes=(100, 20), data=provider_ASC_5302)"
   ]
  },
  {
   "cell_type": "code",
   "execution_count": 72,
   "metadata": {},
   "outputs": [
    {
     "data": {
      "text/html": [
       "<div>\n",
       "<style scoped>\n",
       "    .dataframe tbody tr th:only-of-type {\n",
       "        vertical-align: middle;\n",
       "    }\n",
       "\n",
       "    .dataframe tbody tr th {\n",
       "        vertical-align: top;\n",
       "    }\n",
       "\n",
       "    .dataframe thead th {\n",
       "        text-align: right;\n",
       "    }\n",
       "</style>\n",
       "<table border=\"1\" class=\"dataframe\">\n",
       "  <thead>\n",
       "    <tr style=\"text-align: right;\">\n",
       "      <th></th>\n",
       "      <th>npi</th>\n",
       "      <th>Provider</th>\n",
       "      <th>Provider_City</th>\n",
       "      <th>Provider_State</th>\n",
       "      <th>HCPCS</th>\n",
       "      <th>Beneficiary_Per_Day_Service_Count</th>\n",
       "      <th>Average_Medicare_Allowed_Amount</th>\n",
       "      <th>Average_Medicare_Payment</th>\n",
       "      <th>ZIP</th>\n",
       "    </tr>\n",
       "  </thead>\n",
       "  <tbody>\n",
       "    <tr>\n",
       "      <th>9</th>\n",
       "      <td>1003015843</td>\n",
       "      <td>NORTHBAY PHYSICIAN'S SURGERY CENTER, L.L.C.</td>\n",
       "      <td>VACAVILLE</td>\n",
       "      <td>CA</td>\n",
       "      <td>43249</td>\n",
       "      <td>20</td>\n",
       "      <td>814.53450</td>\n",
       "      <td>596.400500</td>\n",
       "      <td>95687</td>\n",
       "    </tr>\n",
       "    <tr>\n",
       "      <th>76</th>\n",
       "      <td>1003079187</td>\n",
       "      <td>WASC LLC</td>\n",
       "      <td>WOOSTER</td>\n",
       "      <td>OH</td>\n",
       "      <td>43249</td>\n",
       "      <td>17</td>\n",
       "      <td>555.31000</td>\n",
       "      <td>433.162941</td>\n",
       "      <td>44691</td>\n",
       "    </tr>\n",
       "    <tr>\n",
       "      <th>221</th>\n",
       "      <td>1003220187</td>\n",
       "      <td>CENTRAL OHIO ENDOSCOPY CENTER, LLC</td>\n",
       "      <td>COLUMBUS</td>\n",
       "      <td>OH</td>\n",
       "      <td>43249</td>\n",
       "      <td>94</td>\n",
       "      <td>596.51000</td>\n",
       "      <td>463.132234</td>\n",
       "      <td>43202</td>\n",
       "    </tr>\n",
       "    <tr>\n",
       "      <th>325</th>\n",
       "      <td>1003815242</td>\n",
       "      <td>DOTHAN SURGERY CENTER, LLC</td>\n",
       "      <td>DOTHAN</td>\n",
       "      <td>AL</td>\n",
       "      <td>43249</td>\n",
       "      <td>446</td>\n",
       "      <td>509.85778</td>\n",
       "      <td>391.675538</td>\n",
       "      <td>36301</td>\n",
       "    </tr>\n",
       "    <tr>\n",
       "      <th>502</th>\n",
       "      <td>1003887225</td>\n",
       "      <td>CENTRAL TEXAS ENDOSCOPY CENTER LLC</td>\n",
       "      <td>BRYAN</td>\n",
       "      <td>TX</td>\n",
       "      <td>43249</td>\n",
       "      <td>26</td>\n",
       "      <td>576.83000</td>\n",
       "      <td>445.692692</td>\n",
       "      <td>77802</td>\n",
       "    </tr>\n",
       "  </tbody>\n",
       "</table>\n",
       "</div>"
      ],
      "text/plain": [
       "            npi                                     Provider Provider_City  \\\n",
       "9    1003015843  NORTHBAY PHYSICIAN'S SURGERY CENTER, L.L.C.     VACAVILLE   \n",
       "76   1003079187                                     WASC LLC       WOOSTER   \n",
       "221  1003220187           CENTRAL OHIO ENDOSCOPY CENTER, LLC      COLUMBUS   \n",
       "325  1003815242                   DOTHAN SURGERY CENTER, LLC        DOTHAN   \n",
       "502  1003887225           CENTRAL TEXAS ENDOSCOPY CENTER LLC         BRYAN   \n",
       "\n",
       "    Provider_State  HCPCS  Beneficiary_Per_Day_Service_Count  \\\n",
       "9               CA  43249                                 20   \n",
       "76              OH  43249                                 17   \n",
       "221             OH  43249                                 94   \n",
       "325             AL  43249                                446   \n",
       "502             TX  43249                                 26   \n",
       "\n",
       "     Average_Medicare_Allowed_Amount  Average_Medicare_Payment    ZIP  \n",
       "9                          814.53450                596.400500  95687  \n",
       "76                         555.31000                433.162941  44691  \n",
       "221                        596.51000                463.132234  43202  \n",
       "325                        509.85778                391.675538  36301  \n",
       "502                        576.83000                445.692692  77802  "
      ]
     },
     "execution_count": 72,
     "metadata": {},
     "output_type": "execute_result"
    }
   ],
   "source": [
    "provider_hcpcs_43249.head()"
   ]
  },
  {
   "cell_type": "code",
   "execution_count": 73,
   "metadata": {},
   "outputs": [],
   "source": [
    "#provider_ASC_5302.to_csv('provider_ASC_5302.csv', index=False)"
   ]
  },
  {
   "cell_type": "code",
   "execution_count": 74,
   "metadata": {},
   "outputs": [],
   "source": [
    "#list of zip codes for CBSA -34980\n",
    "CBSA_ZIP_list =['37010', '37011', '37012', '37013', '37014', '37015', '37016',\n",
    "       '37018', '37020', '37022', '37024', '37025', '37026', '37027',\n",
    "       '37029', '37030', '37031', '37032', '37035', '37036', '37037',\n",
    "       '37043', '37046', '37048', '37049', '37051', '37052', '37055',\n",
    "       '37056', '37057', '37060', '37062', '37063', '37064', '37065',\n",
    "       '37066', '37067', '37068', '37069', '37070', '37071', '37072',\n",
    "       '37073', '37074', '37075', '37076', '37077', '37080', '37082',\n",
    "       '37083', '37085', '37086', '37087', '37088', '37089', '37090',\n",
    "       '37091', '37095', '37101', '37110', '37115', '37116', '37118',\n",
    "       '37119', '37121', '37122', '37127', '37128', '37129', '37130',\n",
    "       '37131', '37132', '37133', '37135', '37138', '37141', '37143',\n",
    "       '37145', '37146', '37148', '37149', '37150', '37151', '37152',\n",
    "       '37153', '37160', '37165', '37166', '37167', '37171', '37172',\n",
    "       '37174', '37179', '37180', '37181', '37184', '37186', '37187',\n",
    "       '37188', '37189', '37190', '37201', '37202', '37203', '37204',\n",
    "       '37205', '37206', '37207', '37208', '37209', '37210', '37211',\n",
    "       '37212', '37213', '37214', '37215', '37216', '37217', '37218',\n",
    "       '37219', '37220', '37221', '37222', '37224', '37227', '37228',\n",
    "       '37229', '37232', '37234', '37235', '37236', '37238', '37240',\n",
    "       '37242', '37243', '37246', '37250', '37357', '38401', '38402',\n",
    "       '38451', '38454', '38461', '38472', '38474', '38476', '38482',\n",
    "       '38483', '38487', '38547', '38548', '38552', '38560', '38563',\n",
    "       '38567', '38569', '38588']"
   ]
  },
  {
   "cell_type": "code",
   "execution_count": 75,
   "metadata": {},
   "outputs": [],
   "source": [
    "provider_43249 = provider_hcpcs_43249[provider_hcpcs_43249.ZIP.isin(CBSA_ZIP_list)]"
   ]
  },
  {
   "cell_type": "code",
   "execution_count": 76,
   "metadata": {},
   "outputs": [
    {
     "data": {
      "text/html": [
       "<div>\n",
       "<style scoped>\n",
       "    .dataframe tbody tr th:only-of-type {\n",
       "        vertical-align: middle;\n",
       "    }\n",
       "\n",
       "    .dataframe tbody tr th {\n",
       "        vertical-align: top;\n",
       "    }\n",
       "\n",
       "    .dataframe thead th {\n",
       "        text-align: right;\n",
       "    }\n",
       "</style>\n",
       "<table border=\"1\" class=\"dataframe\">\n",
       "  <thead>\n",
       "    <tr style=\"text-align: right;\">\n",
       "      <th></th>\n",
       "      <th>npi</th>\n",
       "      <th>Provider</th>\n",
       "      <th>Provider_City</th>\n",
       "      <th>Provider_State</th>\n",
       "      <th>HCPCS</th>\n",
       "      <th>Beneficiary_Per_Day_Service_Count</th>\n",
       "      <th>Average_Medicare_Allowed_Amount</th>\n",
       "      <th>Average_Medicare_Payment</th>\n",
       "      <th>ZIP</th>\n",
       "    </tr>\n",
       "  </thead>\n",
       "  <tbody>\n",
       "    <tr>\n",
       "      <th>7943</th>\n",
       "      <td>1124498357</td>\n",
       "      <td>ENDOSCOPY CENTER OF INLAND EMPIRE LLC</td>\n",
       "      <td>NASHVILLE</td>\n",
       "      <td>TN</td>\n",
       "      <td>43249</td>\n",
       "      <td>16</td>\n",
       "      <td>660.990000</td>\n",
       "      <td>512.294375</td>\n",
       "      <td>37219</td>\n",
       "    </tr>\n",
       "    <tr>\n",
       "      <th>12767</th>\n",
       "      <td>1225039761</td>\n",
       "      <td>ENDOSCOPY CENTER OF ST THOMAS LP</td>\n",
       "      <td>NASHVILLE</td>\n",
       "      <td>TN</td>\n",
       "      <td>43249</td>\n",
       "      <td>17</td>\n",
       "      <td>565.636471</td>\n",
       "      <td>435.024706</td>\n",
       "      <td>37205</td>\n",
       "    </tr>\n",
       "    <tr>\n",
       "      <th>16881</th>\n",
       "      <td>1295708964</td>\n",
       "      <td>COLUMBIA TN ENDOSCOPY ASC LLC</td>\n",
       "      <td>COLUMBIA</td>\n",
       "      <td>TN</td>\n",
       "      <td>43249</td>\n",
       "      <td>34</td>\n",
       "      <td>587.110000</td>\n",
       "      <td>454.431471</td>\n",
       "      <td>38401</td>\n",
       "    </tr>\n",
       "    <tr>\n",
       "      <th>25382</th>\n",
       "      <td>1427152073</td>\n",
       "      <td>PATIENT PARTNERS LLC</td>\n",
       "      <td>GALLATIN</td>\n",
       "      <td>TN</td>\n",
       "      <td>43249</td>\n",
       "      <td>23</td>\n",
       "      <td>587.110000</td>\n",
       "      <td>456.564783</td>\n",
       "      <td>37066</td>\n",
       "    </tr>\n",
       "    <tr>\n",
       "      <th>37201</th>\n",
       "      <td>1639299803</td>\n",
       "      <td>MURFREESBORO MEDICAL CLINIC P A</td>\n",
       "      <td>MURFREESBORO</td>\n",
       "      <td>TN</td>\n",
       "      <td>43249</td>\n",
       "      <td>33</td>\n",
       "      <td>587.110000</td>\n",
       "      <td>433.111515</td>\n",
       "      <td>37129</td>\n",
       "    </tr>\n",
       "  </tbody>\n",
       "</table>\n",
       "</div>"
      ],
      "text/plain": [
       "              npi                               Provider Provider_City  \\\n",
       "7943   1124498357  ENDOSCOPY CENTER OF INLAND EMPIRE LLC     NASHVILLE   \n",
       "12767  1225039761       ENDOSCOPY CENTER OF ST THOMAS LP     NASHVILLE   \n",
       "16881  1295708964          COLUMBIA TN ENDOSCOPY ASC LLC      COLUMBIA   \n",
       "25382  1427152073                   PATIENT PARTNERS LLC      GALLATIN   \n",
       "37201  1639299803        MURFREESBORO MEDICAL CLINIC P A  MURFREESBORO   \n",
       "\n",
       "      Provider_State  HCPCS  Beneficiary_Per_Day_Service_Count  \\\n",
       "7943              TN  43249                                 16   \n",
       "12767             TN  43249                                 17   \n",
       "16881             TN  43249                                 34   \n",
       "25382             TN  43249                                 23   \n",
       "37201             TN  43249                                 33   \n",
       "\n",
       "       Average_Medicare_Allowed_Amount  Average_Medicare_Payment    ZIP  \n",
       "7943                        660.990000                512.294375  37219  \n",
       "12767                       565.636471                435.024706  37205  \n",
       "16881                       587.110000                454.431471  38401  \n",
       "25382                       587.110000                456.564783  37066  \n",
       "37201                       587.110000                433.111515  37129  "
      ]
     },
     "execution_count": 76,
     "metadata": {},
     "output_type": "execute_result"
    }
   ],
   "source": [
    "#records of non-hospital provider payment for hcpcs code: 43249;\"Balloon dilation of esophagus using an endoscope\"\n",
    "provider_43249"
   ]
  },
  {
   "cell_type": "code",
   "execution_count": 77,
   "metadata": {},
   "outputs": [],
   "source": [
    "provider_43249.to_csv('provider_43249.csv', index=False)"
   ]
  },
  {
   "cell_type": "code",
   "execution_count": 80,
   "metadata": {},
   "outputs": [
    {
     "data": {
      "image/png": "[encoded data removed]",
      "text/plain": [
       "<Figure size 432x288 with 1 Axes>"
      ]
     },
     "metadata": {
      "needs_background": "light"
     },
     "output_type": "display_data"
    }
   ],
   "source": [
    "#amount Non-hospital paid in Nashville city, ASC 5302 & hcpcs 43249\n",
    "ax= provider_43249.plot.scatter(x='Average_Medicare_Allowed_Amount',y='Provider',c='red')\n"
   ]
  },
  {
   "cell_type": "code",
   "execution_count": 81,
   "metadata": {},
   "outputs": [
    {
     "data": {
      "text/html": [
       "<div>\n",
       "<style scoped>\n",
       "    .dataframe tbody tr th:only-of-type {\n",
       "        vertical-align: middle;\n",
       "    }\n",
       "\n",
       "    .dataframe tbody tr th {\n",
       "        vertical-align: top;\n",
       "    }\n",
       "\n",
       "    .dataframe thead th {\n",
       "        text-align: right;\n",
       "    }\n",
       "</style>\n",
       "<table border=\"1\" class=\"dataframe\">\n",
       "  <thead>\n",
       "    <tr style=\"text-align: right;\">\n",
       "      <th></th>\n",
       "      <th>npi</th>\n",
       "      <th>Provider</th>\n",
       "      <th>Provider_City</th>\n",
       "      <th>Provider_State</th>\n",
       "      <th>HCPCS</th>\n",
       "      <th>Beneficiary_Per_Day_Service_Count</th>\n",
       "      <th>Average_Medicare_Allowed_Amount</th>\n",
       "      <th>Average_Medicare_Payment</th>\n",
       "      <th>ZIP</th>\n",
       "    </tr>\n",
       "  </thead>\n",
       "  <tbody>\n",
       "    <tr>\n",
       "      <th>7943</th>\n",
       "      <td>1124498357</td>\n",
       "      <td>ENDOSCOPY CENTER OF INLAND EMPIRE LLC</td>\n",
       "      <td>NASHVILLE</td>\n",
       "      <td>TN</td>\n",
       "      <td>43249</td>\n",
       "      <td>16</td>\n",
       "      <td>660.990000</td>\n",
       "      <td>512.294375</td>\n",
       "      <td>37219</td>\n",
       "    </tr>\n",
       "    <tr>\n",
       "      <th>12767</th>\n",
       "      <td>1225039761</td>\n",
       "      <td>ENDOSCOPY CENTER OF ST THOMAS LP</td>\n",
       "      <td>NASHVILLE</td>\n",
       "      <td>TN</td>\n",
       "      <td>43249</td>\n",
       "      <td>17</td>\n",
       "      <td>565.636471</td>\n",
       "      <td>435.024706</td>\n",
       "      <td>37205</td>\n",
       "    </tr>\n",
       "    <tr>\n",
       "      <th>12768</th>\n",
       "      <td>1225039761</td>\n",
       "      <td>ENDOSCOPY CENTER OF ST THOMAS LP</td>\n",
       "      <td>NASHVILLE</td>\n",
       "      <td>TN</td>\n",
       "      <td>43251</td>\n",
       "      <td>14</td>\n",
       "      <td>587.110000</td>\n",
       "      <td>425.971429</td>\n",
       "      <td>37205</td>\n",
       "    </tr>\n",
       "    <tr>\n",
       "      <th>13757</th>\n",
       "      <td>1235376104</td>\n",
       "      <td>GASTROENTEROLOGY &amp; SURGERY CENTER OF ARKANSAS,...</td>\n",
       "      <td>NASHVILLE</td>\n",
       "      <td>TN</td>\n",
       "      <td>43246</td>\n",
       "      <td>17</td>\n",
       "      <td>550.540000</td>\n",
       "      <td>431.620000</td>\n",
       "      <td>37219</td>\n",
       "    </tr>\n",
       "    <tr>\n",
       "      <th>13758</th>\n",
       "      <td>1235376104</td>\n",
       "      <td>GASTROENTEROLOGY &amp; SURGERY CENTER OF ARKANSAS,...</td>\n",
       "      <td>NASHVILLE</td>\n",
       "      <td>TN</td>\n",
       "      <td>43251</td>\n",
       "      <td>21</td>\n",
       "      <td>537.431905</td>\n",
       "      <td>421.343810</td>\n",
       "      <td>37219</td>\n",
       "    </tr>\n",
       "    <tr>\n",
       "      <th>16881</th>\n",
       "      <td>1295708964</td>\n",
       "      <td>COLUMBIA TN ENDOSCOPY ASC LLC</td>\n",
       "      <td>COLUMBIA</td>\n",
       "      <td>TN</td>\n",
       "      <td>43249</td>\n",
       "      <td>34</td>\n",
       "      <td>587.110000</td>\n",
       "      <td>454.431471</td>\n",
       "      <td>38401</td>\n",
       "    </tr>\n",
       "    <tr>\n",
       "      <th>25382</th>\n",
       "      <td>1427152073</td>\n",
       "      <td>PATIENT PARTNERS LLC</td>\n",
       "      <td>GALLATIN</td>\n",
       "      <td>TN</td>\n",
       "      <td>43249</td>\n",
       "      <td>23</td>\n",
       "      <td>587.110000</td>\n",
       "      <td>456.564783</td>\n",
       "      <td>37066</td>\n",
       "    </tr>\n",
       "    <tr>\n",
       "      <th>37201</th>\n",
       "      <td>1639299803</td>\n",
       "      <td>MURFREESBORO MEDICAL CLINIC P A</td>\n",
       "      <td>MURFREESBORO</td>\n",
       "      <td>TN</td>\n",
       "      <td>43249</td>\n",
       "      <td>33</td>\n",
       "      <td>587.110000</td>\n",
       "      <td>433.111515</td>\n",
       "      <td>37129</td>\n",
       "    </tr>\n",
       "  </tbody>\n",
       "</table>\n",
       "</div>"
      ],
      "text/plain": [
       "              npi                                           Provider  \\\n",
       "7943   1124498357              ENDOSCOPY CENTER OF INLAND EMPIRE LLC   \n",
       "12767  1225039761                   ENDOSCOPY CENTER OF ST THOMAS LP   \n",
       "12768  1225039761                   ENDOSCOPY CENTER OF ST THOMAS LP   \n",
       "13757  1235376104  GASTROENTEROLOGY & SURGERY CENTER OF ARKANSAS,...   \n",
       "13758  1235376104  GASTROENTEROLOGY & SURGERY CENTER OF ARKANSAS,...   \n",
       "16881  1295708964                      COLUMBIA TN ENDOSCOPY ASC LLC   \n",
       "25382  1427152073                               PATIENT PARTNERS LLC   \n",
       "37201  1639299803                    MURFREESBORO MEDICAL CLINIC P A   \n",
       "\n",
       "      Provider_City Provider_State  HCPCS  Beneficiary_Per_Day_Service_Count  \\\n",
       "7943      NASHVILLE             TN  43249                                 16   \n",
       "12767     NASHVILLE             TN  43249                                 17   \n",
       "12768     NASHVILLE             TN  43251                                 14   \n",
       "13757     NASHVILLE             TN  43246                                 17   \n",
       "13758     NASHVILLE             TN  43251                                 21   \n",
       "16881      COLUMBIA             TN  43249                                 34   \n",
       "25382      GALLATIN             TN  43249                                 23   \n",
       "37201  MURFREESBORO             TN  43249                                 33   \n",
       "\n",
       "       Average_Medicare_Allowed_Amount  Average_Medicare_Payment    ZIP  \n",
       "7943                        660.990000                512.294375  37219  \n",
       "12767                       565.636471                435.024706  37205  \n",
       "12768                       587.110000                425.971429  37205  \n",
       "13757                       550.540000                431.620000  37219  \n",
       "13758                       537.431905                421.343810  37219  \n",
       "16881                       587.110000                454.431471  38401  \n",
       "25382                       587.110000                456.564783  37066  \n",
       "37201                       587.110000                433.111515  37129  "
      ]
     },
     "execution_count": 81,
     "metadata": {},
     "output_type": "execute_result"
    }
   ],
   "source": [
    "#records of Nashville non-hospital provider payments for ASC 5302 (hcpcs: 43249, 43251, 43246)\n",
    "provider_nash_5302=provider_ASC_5302[provider_ASC_5302.ZIP.isin(CBSA_ZIP_list)]\n",
    "provider_nash_5302"
   ]
  },
  {
   "cell_type": "code",
   "execution_count": 82,
   "metadata": {},
   "outputs": [],
   "source": [
    "provider_nash_5302.to_csv('provider_nash_5302.csv', index=False)"
   ]
  },
  {
   "cell_type": "code",
   "execution_count": 85,
   "metadata": {},
   "outputs": [
    {
     "data": {
      "image/png": "[encoded data removed]",
      "text/plain": [
       "<Figure size 432x288 with 1 Axes>"
      ]
     },
     "metadata": {
      "needs_background": "light"
     },
     "output_type": "display_data"
    }
   ],
   "source": [
    "#Nearby non-hospital paid amount for Nashville city, ASC 5302 \n",
    "ax = sns.scatterplot(x=\"Average_Medicare_Allowed_Amount\", y=\"Provider\", legend='brief',data= provider_nash_5302, hue=\"ZIP\")"
   ]
  },
  {
   "cell_type": "markdown",
   "metadata": {},
   "source": [
    "###### Find max, min, average medicare payment for non-hospital in nashville, CBSA = 34980"
   ]
  },
  {
   "cell_type": "code",
   "execution_count": 22,
   "metadata": {},
   "outputs": [
    {
     "data": {
      "text/html": [
       "<div>\n",
       "<style scoped>\n",
       "    .dataframe tbody tr th:only-of-type {\n",
       "        vertical-align: middle;\n",
       "    }\n",
       "\n",
       "    .dataframe tbody tr th {\n",
       "        vertical-align: top;\n",
       "    }\n",
       "\n",
       "    .dataframe thead th {\n",
       "        text-align: right;\n",
       "    }\n",
       "</style>\n",
       "<table border=\"1\" class=\"dataframe\">\n",
       "  <thead>\n",
       "    <tr style=\"text-align: right;\">\n",
       "      <th></th>\n",
       "      <th>count</th>\n",
       "      <th>max</th>\n",
       "      <th>mean</th>\n",
       "      <th>min</th>\n",
       "    </tr>\n",
       "    <tr>\n",
       "      <th>hcpcs_description</th>\n",
       "      <th></th>\n",
       "      <th></th>\n",
       "      <th></th>\n",
       "      <th></th>\n",
       "    </tr>\n",
       "  </thead>\n",
       "  <tbody>\n",
       "    <tr>\n",
       "      <th>Balloon dilation of esophagus using an endoscope</th>\n",
       "      <td>5</td>\n",
       "      <td>660.99</td>\n",
       "      <td>597.591294</td>\n",
       "      <td>565.636471</td>\n",
       "    </tr>\n",
       "    <tr>\n",
       "      <th>Insertion of stomach tube using an endoscope</th>\n",
       "      <td>1</td>\n",
       "      <td>550.54</td>\n",
       "      <td>550.540000</td>\n",
       "      <td>550.540000</td>\n",
       "    </tr>\n",
       "    <tr>\n",
       "      <th>Removal of polyps or growths of esophagus, stomach, and/or upper small bowel using an endoscope</th>\n",
       "      <td>2</td>\n",
       "      <td>587.11</td>\n",
       "      <td>562.270952</td>\n",
       "      <td>537.431905</td>\n",
       "    </tr>\n",
       "  </tbody>\n",
       "</table>\n",
       "</div>"
      ],
      "text/plain": [
       "                                                    count     max        mean  \\\n",
       "hcpcs_description                                                               \n",
       "Balloon dilation of esophagus using an endoscope        5  660.99  597.591294   \n",
       "Insertion of stomach tube using an endoscope            1  550.54  550.540000   \n",
       "Removal of polyps or growths of esophagus, stom...      2  587.11  562.270952   \n",
       "\n",
       "                                                           min  \n",
       "hcpcs_description                                               \n",
       "Balloon dilation of esophagus using an endoscope    565.636471  \n",
       "Insertion of stomach tube using an endoscope        550.540000  \n",
       "Removal of polyps or growths of esophagus, stom...  537.431905  "
      ]
     },
     "execution_count": 22,
     "metadata": {},
     "output_type": "execute_result"
    }
   ],
   "source": [
    "provider_nash_5302.groupby('hcpcs_description').avg_medicare_allowed.agg(['count','max','mean','min'])"
   ]
  },
  {
   "cell_type": "markdown",
   "metadata": {},
   "source": [
    "#### Find well-populated APC in Hospital file, then find well-populated HCPCS from the APC in the Physician/Other Supplier File"
   ]
  },
  {
   "cell_type": "code",
   "execution_count": null,
   "metadata": {},
   "outputs": [],
   "source": []
  }
 ],
 "metadata": {
  "kernelspec": {
   "display_name": "Python 3",
   "language": "python",
   "name": "python3"
  },
  "language_info": {
   "codemirror_mode": {
    "name": "ipython",
    "version": 3
   },
   "file_extension": ".py",
   "mimetype": "text/x-python",
   "name": "python",
   "nbconvert_exporter": "python",
   "pygments_lexer": "ipython3",
   "version": "3.7.6"
  }
 },
 "nbformat": 4,
 "nbformat_minor": 4
}
