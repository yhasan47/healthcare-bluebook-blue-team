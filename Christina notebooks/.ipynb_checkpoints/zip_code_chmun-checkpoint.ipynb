{
 "cells": [
  {
   "cell_type": "code",
   "execution_count": 15,
   "metadata": {},
   "outputs": [],
   "source": [
    "import pandas as pd\n",
    "import numpy as np\n",
    "import matplotlib.pyplot as plt\n",
    "import seaborn as sns\n",
    "import re"
   ]
  },
  {
   "cell_type": "code",
   "execution_count": 16,
   "metadata": {},
   "outputs": [],
   "source": [
    "%matplotlib inline"
   ]
  },
  {
   "cell_type": "code",
   "execution_count": 17,
   "metadata": {},
   "outputs": [
    {
     "data": {
      "text/html": [
       "<div>\n",
       "<style scoped>\n",
       "    .dataframe tbody tr th:only-of-type {\n",
       "        vertical-align: middle;\n",
       "    }\n",
       "\n",
       "    .dataframe tbody tr th {\n",
       "        vertical-align: top;\n",
       "    }\n",
       "\n",
       "    .dataframe thead th {\n",
       "        text-align: right;\n",
       "    }\n",
       "</style>\n",
       "<table border=\"1\" class=\"dataframe\">\n",
       "  <thead>\n",
       "    <tr style=\"text-align: right;\">\n",
       "      <th></th>\n",
       "      <th>ZIP</th>\n",
       "      <th>CBSA</th>\n",
       "      <th>RES_RATIO</th>\n",
       "      <th>BUS_RATIO</th>\n",
       "      <th>OTH_RATIO</th>\n",
       "      <th>TOT_RATIO</th>\n",
       "    </tr>\n",
       "  </thead>\n",
       "  <tbody>\n",
       "    <tr>\n",
       "      <th>0</th>\n",
       "      <td>00501</td>\n",
       "      <td>35620</td>\n",
       "      <td>0.0</td>\n",
       "      <td>1.0</td>\n",
       "      <td>0.0</td>\n",
       "      <td>1.0</td>\n",
       "    </tr>\n",
       "    <tr>\n",
       "      <th>1</th>\n",
       "      <td>00601</td>\n",
       "      <td>38660</td>\n",
       "      <td>1.0</td>\n",
       "      <td>1.0</td>\n",
       "      <td>1.0</td>\n",
       "      <td>1.0</td>\n",
       "    </tr>\n",
       "    <tr>\n",
       "      <th>2</th>\n",
       "      <td>00602</td>\n",
       "      <td>10380</td>\n",
       "      <td>1.0</td>\n",
       "      <td>1.0</td>\n",
       "      <td>1.0</td>\n",
       "      <td>1.0</td>\n",
       "    </tr>\n",
       "    <tr>\n",
       "      <th>3</th>\n",
       "      <td>00603</td>\n",
       "      <td>10380</td>\n",
       "      <td>1.0</td>\n",
       "      <td>1.0</td>\n",
       "      <td>1.0</td>\n",
       "      <td>1.0</td>\n",
       "    </tr>\n",
       "    <tr>\n",
       "      <th>4</th>\n",
       "      <td>00604</td>\n",
       "      <td>10380</td>\n",
       "      <td>1.0</td>\n",
       "      <td>1.0</td>\n",
       "      <td>1.0</td>\n",
       "      <td>1.0</td>\n",
       "    </tr>\n",
       "  </tbody>\n",
       "</table>\n",
       "</div>"
      ],
      "text/plain": [
       "     ZIP   CBSA  RES_RATIO  BUS_RATIO  OTH_RATIO  TOT_RATIO\n",
       "0  00501  35620        0.0        1.0        0.0        1.0\n",
       "1  00601  38660        1.0        1.0        1.0        1.0\n",
       "2  00602  10380        1.0        1.0        1.0        1.0\n",
       "3  00603  10380        1.0        1.0        1.0        1.0\n",
       "4  00604  10380        1.0        1.0        1.0        1.0"
      ]
     },
     "execution_count": 17,
     "metadata": {},
     "output_type": "execute_result"
    }
   ],
   "source": [
    "#read excel file and change data type for columns: zip and CBSA to string\n",
    "zip_cbsa = pd.read_excel('..\\data\\ZIP_CBSA_032020.xlsx', dtype ={'ZIP': 'str', 'CBSA': 'str'})\n",
    "zip_cbsa.head()"
   ]
  },
  {
   "cell_type": "code",
   "execution_count": 18,
   "metadata": {},
   "outputs": [
    {
     "data": {
      "text/html": [
       "<div>\n",
       "<style scoped>\n",
       "    .dataframe tbody tr th:only-of-type {\n",
       "        vertical-align: middle;\n",
       "    }\n",
       "\n",
       "    .dataframe tbody tr th {\n",
       "        vertical-align: top;\n",
       "    }\n",
       "\n",
       "    .dataframe thead th {\n",
       "        text-align: right;\n",
       "    }\n",
       "</style>\n",
       "<table border=\"1\" class=\"dataframe\">\n",
       "  <thead>\n",
       "    <tr style=\"text-align: right;\">\n",
       "      <th></th>\n",
       "      <th>ZIP</th>\n",
       "      <th>CBSA</th>\n",
       "    </tr>\n",
       "  </thead>\n",
       "  <tbody>\n",
       "    <tr>\n",
       "      <th>0</th>\n",
       "      <td>00501</td>\n",
       "      <td>35620</td>\n",
       "    </tr>\n",
       "    <tr>\n",
       "      <th>1</th>\n",
       "      <td>00601</td>\n",
       "      <td>38660</td>\n",
       "    </tr>\n",
       "    <tr>\n",
       "      <th>2</th>\n",
       "      <td>00602</td>\n",
       "      <td>10380</td>\n",
       "    </tr>\n",
       "    <tr>\n",
       "      <th>3</th>\n",
       "      <td>00603</td>\n",
       "      <td>10380</td>\n",
       "    </tr>\n",
       "    <tr>\n",
       "      <th>4</th>\n",
       "      <td>00604</td>\n",
       "      <td>10380</td>\n",
       "    </tr>\n",
       "    <tr>\n",
       "      <th>...</th>\n",
       "      <td>...</td>\n",
       "      <td>...</td>\n",
       "    </tr>\n",
       "    <tr>\n",
       "      <th>47410</th>\n",
       "      <td>99925</td>\n",
       "      <td>99999</td>\n",
       "    </tr>\n",
       "    <tr>\n",
       "      <th>47411</th>\n",
       "      <td>99926</td>\n",
       "      <td>99999</td>\n",
       "    </tr>\n",
       "    <tr>\n",
       "      <th>47412</th>\n",
       "      <td>99927</td>\n",
       "      <td>99999</td>\n",
       "    </tr>\n",
       "    <tr>\n",
       "      <th>47413</th>\n",
       "      <td>99928</td>\n",
       "      <td>28540</td>\n",
       "    </tr>\n",
       "    <tr>\n",
       "      <th>47414</th>\n",
       "      <td>99929</td>\n",
       "      <td>99999</td>\n",
       "    </tr>\n",
       "  </tbody>\n",
       "</table>\n",
       "<p>47415 rows × 2 columns</p>\n",
       "</div>"
      ],
      "text/plain": [
       "         ZIP   CBSA\n",
       "0      00501  35620\n",
       "1      00601  38660\n",
       "2      00602  10380\n",
       "3      00603  10380\n",
       "4      00604  10380\n",
       "...      ...    ...\n",
       "47410  99925  99999\n",
       "47411  99926  99999\n",
       "47412  99927  99999\n",
       "47413  99928  28540\n",
       "47414  99929  99999\n",
       "\n",
       "[47415 rows x 2 columns]"
      ]
     },
     "execution_count": 18,
     "metadata": {},
     "output_type": "execute_result"
    }
   ],
   "source": [
    "#keep columns 'ZIP' and 'CBSA' only\n",
    "zip_cbsa = zip_cbsa.loc[:, ['ZIP', 'CBSA']]\n",
    "zip_cbsa"
   ]
  },
  {
   "cell_type": "code",
   "execution_count": 19,
   "metadata": {},
   "outputs": [
    {
     "data": {
      "text/plain": [
       "(47415, 2)"
      ]
     },
     "execution_count": 19,
     "metadata": {},
     "output_type": "execute_result"
    }
   ],
   "source": [
    "zip_cbsa.shape"
   ]
  },
  {
   "cell_type": "markdown",
   "metadata": {},
   "source": [
    "#find zip codes in CBSA 34980"
   ]
  },
  {
   "cell_type": "code",
   "execution_count": 20,
   "metadata": {},
   "outputs": [
    {
     "name": "stdout",
     "output_type": "stream",
     "text": [
      "<class 'pandas.core.frame.DataFrame'>\n",
      "Int64Index: 157 entries, 16984 to 17990\n",
      "Data columns (total 2 columns):\n",
      " #   Column  Non-Null Count  Dtype \n",
      "---  ------  --------------  ----- \n",
      " 0   ZIP     157 non-null    object\n",
      " 1   CBSA    157 non-null    object\n",
      "dtypes: object(2)\n",
      "memory usage: 3.7+ KB\n"
     ]
    }
   ],
   "source": [
    "zip_cbsa_34980 =zip_cbsa[zip_cbsa['CBSA']== '34980']\n",
    "zip_cbsa_34980.info()"
   ]
  },
  {
   "cell_type": "code",
   "execution_count": 21,
   "metadata": {},
   "outputs": [
    {
     "data": {
      "text/plain": [
       "array(['37010', '37011', '37012', '37013', '37014', '37015', '37016',\n",
       "       '37018', '37020', '37022', '37024', '37025', '37026', '37027',\n",
       "       '37029', '37030', '37031', '37032', '37035', '37036', '37037',\n",
       "       '37043', '37046', '37048', '37049', '37051', '37052', '37055',\n",
       "       '37056', '37057', '37060', '37062', '37063', '37064', '37065',\n",
       "       '37066', '37067', '37068', '37069', '37070', '37071', '37072',\n",
       "       '37073', '37074', '37075', '37076', '37077', '37080', '37082',\n",
       "       '37083', '37085', '37086', '37087', '37088', '37089', '37090',\n",
       "       '37091', '37095', '37101', '37110', '37115', '37116', '37118',\n",
       "       '37119', '37121', '37122', '37127', '37128', '37129', '37130',\n",
       "       '37131', '37132', '37133', '37135', '37138', '37141', '37143',\n",
       "       '37145', '37146', '37148', '37149', '37150', '37151', '37152',\n",
       "       '37153', '37160', '37165', '37166', '37167', '37171', '37172',\n",
       "       '37174', '37179', '37180', '37181', '37184', '37186', '37187',\n",
       "       '37188', '37189', '37190', '37201', '37202', '37203', '37204',\n",
       "       '37205', '37206', '37207', '37208', '37209', '37210', '37211',\n",
       "       '37212', '37213', '37214', '37215', '37216', '37217', '37218',\n",
       "       '37219', '37220', '37221', '37222', '37224', '37227', '37228',\n",
       "       '37229', '37232', '37234', '37235', '37236', '37238', '37240',\n",
       "       '37242', '37243', '37246', '37250', '37357', '38401', '38402',\n",
       "       '38451', '38454', '38461', '38472', '38474', '38476', '38482',\n",
       "       '38483', '38487', '38547', '38548', '38552', '38560', '38563',\n",
       "       '38567', '38569', '38588'], dtype=object)"
      ]
     },
     "execution_count": 21,
     "metadata": {},
     "output_type": "execute_result"
    }
   ],
   "source": [
    "uniq_zip_cbsa_34980 = zip_cbsa_34980['ZIP'].unique()\n",
    "uniq_zip_cbsa_34980"
   ]
  },
  {
   "cell_type": "code",
   "execution_count": 23,
   "metadata": {},
   "outputs": [],
   "source": [
    "zip_cbsa['zip'] = zip_cbsa['ZIP'].str.zfill(5)"
   ]
  },
  {
   "cell_type": "code",
   "execution_count": 33,
   "metadata": {},
   "outputs": [
    {
     "data": {
      "text/html": [
       "<div>\n",
       "<style scoped>\n",
       "    .dataframe tbody tr th:only-of-type {\n",
       "        vertical-align: middle;\n",
       "    }\n",
       "\n",
       "    .dataframe tbody tr th {\n",
       "        vertical-align: top;\n",
       "    }\n",
       "\n",
       "    .dataframe thead th {\n",
       "        text-align: right;\n",
       "    }\n",
       "</style>\n",
       "<table border=\"1\" class=\"dataframe\">\n",
       "  <thead>\n",
       "    <tr style=\"text-align: right;\">\n",
       "      <th></th>\n",
       "      <th>CBSA</th>\n",
       "      <th>zip</th>\n",
       "    </tr>\n",
       "  </thead>\n",
       "  <tbody>\n",
       "    <tr>\n",
       "      <th>0</th>\n",
       "      <td>35620</td>\n",
       "      <td>00501</td>\n",
       "    </tr>\n",
       "    <tr>\n",
       "      <th>1</th>\n",
       "      <td>38660</td>\n",
       "      <td>00601</td>\n",
       "    </tr>\n",
       "    <tr>\n",
       "      <th>2</th>\n",
       "      <td>10380</td>\n",
       "      <td>00602</td>\n",
       "    </tr>\n",
       "    <tr>\n",
       "      <th>3</th>\n",
       "      <td>10380</td>\n",
       "      <td>00603</td>\n",
       "    </tr>\n",
       "    <tr>\n",
       "      <th>4</th>\n",
       "      <td>10380</td>\n",
       "      <td>00604</td>\n",
       "    </tr>\n",
       "    <tr>\n",
       "      <th>...</th>\n",
       "      <td>...</td>\n",
       "      <td>...</td>\n",
       "    </tr>\n",
       "    <tr>\n",
       "      <th>47410</th>\n",
       "      <td>99999</td>\n",
       "      <td>99925</td>\n",
       "    </tr>\n",
       "    <tr>\n",
       "      <th>47411</th>\n",
       "      <td>99999</td>\n",
       "      <td>99926</td>\n",
       "    </tr>\n",
       "    <tr>\n",
       "      <th>47412</th>\n",
       "      <td>99999</td>\n",
       "      <td>99927</td>\n",
       "    </tr>\n",
       "    <tr>\n",
       "      <th>47413</th>\n",
       "      <td>28540</td>\n",
       "      <td>99928</td>\n",
       "    </tr>\n",
       "    <tr>\n",
       "      <th>47414</th>\n",
       "      <td>99999</td>\n",
       "      <td>99929</td>\n",
       "    </tr>\n",
       "  </tbody>\n",
       "</table>\n",
       "<p>47415 rows × 2 columns</p>\n",
       "</div>"
      ],
      "text/plain": [
       "        CBSA    zip\n",
       "0      35620  00501\n",
       "1      38660  00601\n",
       "2      10380  00602\n",
       "3      10380  00603\n",
       "4      10380  00604\n",
       "...      ...    ...\n",
       "47410  99999  99925\n",
       "47411  99999  99926\n",
       "47412  99999  99927\n",
       "47413  28540  99928\n",
       "47414  99999  99929\n",
       "\n",
       "[47415 rows x 2 columns]"
      ]
     },
     "execution_count": 33,
     "metadata": {},
     "output_type": "execute_result"
    }
   ],
   "source": [
    "zip_cbsa.drop(columns=['ZIP'])\n",
    "#df.drop(columns=['B', 'C'])"
   ]
  },
  {
   "cell_type": "code",
   "execution_count": 12,
   "metadata": {},
   "outputs": [],
   "source": [
    "zip_cbsa.to_csv('zip_cbsa.csv', index=False)"
   ]
  },
  {
   "cell_type": "code",
   "execution_count": 34,
   "metadata": {},
   "outputs": [
    {
     "name": "stdout",
     "output_type": "stream",
     "text": [
      "<class 'pandas.core.frame.DataFrame'>\n",
      "Int64Index: 328 entries, 13321 to 18752\n",
      "Data columns (total 2 columns):\n",
      " #   Column  Non-Null Count  Dtype \n",
      "---  ------  --------------  ----- \n",
      " 0   ZIP     328 non-null    object\n",
      " 1   CBSA    328 non-null    object\n",
      "dtypes: object(2)\n",
      "memory usage: 7.7+ KB\n"
     ]
    }
   ],
   "source": [
    "zip_cbsa_12060 =zip_cbsa[zip_cbsa['CBSA']== '12060']\n",
    "zip_cbsa_12060.info()"
   ]
  },
  {
   "cell_type": "code",
   "execution_count": 35,
   "metadata": {},
   "outputs": [
    {
     "data": {
      "text/plain": [
       "array(['30002', '30003', '30004', '30005', '30006', '30007', '30008',\n",
       "       '30009', '30010', '30011', '30012', '30013', '30014', '30015',\n",
       "       '30016', '30017', '30018', '30019', '30021', '30022', '30023',\n",
       "       '30024', '30025', '30028', '30030', '30031', '30032', '30033',\n",
       "       '30034', '30035', '30036', '30037', '30038', '30039', '30040',\n",
       "       '30041', '30042', '30043', '30044', '30045', '30046', '30047',\n",
       "       '30048', '30049', '30052', '30054', '30055', '30056', '30058',\n",
       "       '30060', '30061', '30062', '30063', '30064', '30065', '30066',\n",
       "       '30067', '30068', '30069', '30070', '30071', '30072', '30074',\n",
       "       '30075', '30076', '30077', '30078', '30079', '30080', '30081',\n",
       "       '30082', '30083', '30084', '30085', '30086', '30087', '30088',\n",
       "       '30090', '30091', '30092', '30093', '30094', '30095', '30096',\n",
       "       '30097', '30098', '30099', '30101', '30102', '30103', '30104',\n",
       "       '30106', '30107', '30108', '30109', '30110', '30111', '30112',\n",
       "       '30113', '30114', '30115', '30116', '30117', '30118', '30119',\n",
       "       '30120', '30121', '30122', '30123', '30126', '30127', '30132',\n",
       "       '30133', '30134', '30135', '30137', '30139', '30140', '30141',\n",
       "       '30142', '30143', '30144', '30145', '30146', '30148', '30150',\n",
       "       '30151', '30152', '30153', '30154', '30156', '30157', '30160',\n",
       "       '30161', '30168', '30169', '30170', '30171', '30175', '30176',\n",
       "       '30177', '30178', '30179', '30180', '30182', '30183', '30184',\n",
       "       '30185', '30187', '30188', '30189', '30204', '30205', '30206',\n",
       "       '30212', '30213', '30214', '30215', '30216', '30217', '30218',\n",
       "       '30220', '30222', '30223', '30224', '30228', '30229', '30230',\n",
       "       '30233', '30234', '30236', '30237', '30238', '30240', '30241',\n",
       "       '30248', '30250', '30251', '30252', '30253', '30256', '30257',\n",
       "       '30258', '30259', '30260', '30263', '30264', '30265', '30266',\n",
       "       '30268', '30269', '30271', '30272', '30273', '30274', '30275',\n",
       "       '30276', '30277', '30281', '30284', '30285', '30287', '30288',\n",
       "       '30289', '30290', '30291', '30292', '30293', '30294', '30295',\n",
       "       '30296', '30297', '30298', '30301', '30302', '30303', '30304',\n",
       "       '30305', '30306', '30307', '30308', '30309', '30310', '30311',\n",
       "       '30312', '30313', '30314', '30315', '30316', '30317', '30318',\n",
       "       '30319', '30320', '30321', '30322', '30324', '30325', '30326',\n",
       "       '30327', '30328', '30329', '30331', '30332', '30333', '30334',\n",
       "       '30336', '30337', '30338', '30339', '30340', '30341', '30342',\n",
       "       '30343', '30344', '30345', '30346', '30349', '30350', '30354',\n",
       "       '30355', '30356', '30357', '30358', '30359', '30360', '30361',\n",
       "       '30362', '30363', '30364', '30366', '30368', '30369', '30377',\n",
       "       '30378', '30380', '30385', '30388', '30396', '30398', '30506',\n",
       "       '30515', '30517', '30518', '30519', '30533', '30534', '30536',\n",
       "       '30540', '30548', '30620', '30621', '30622', '30623', '30625',\n",
       "       '30641', '30642', '30650', '30655', '30656', '30663', '30666',\n",
       "       '30680', '30734', '30747', '31016', '31024', '31029', '31038',\n",
       "       '31064', '31085', '31097', '31106', '31107', '31119', '31126',\n",
       "       '31131', '31136', '31139', '31141', '31145', '31146', '31150',\n",
       "       '31156', '31169', '31816', '31822', '31830', '39901'], dtype=object)"
      ]
     },
     "execution_count": 35,
     "metadata": {},
     "output_type": "execute_result"
    }
   ],
   "source": [
    "zip_cbsa_12060= zip_cbsa_12060['ZIP'].unique()\n",
    "zip_cbsa_12060"
   ]
  },
  {
   "cell_type": "code",
   "execution_count": null,
   "metadata": {},
   "outputs": [],
   "source": []
  }
 ],
 "metadata": {
  "kernelspec": {
   "display_name": "Python 3",
   "language": "python",
   "name": "python3"
  },
  "language_info": {
   "codemirror_mode": {
    "name": "ipython",
    "version": 3
   },
   "file_extension": ".py",
   "mimetype": "text/x-python",
   "name": "python",
   "nbconvert_exporter": "python",
   "pygments_lexer": "ipython3",
   "version": "3.7.6"
  }
 },
 "nbformat": 4,
 "nbformat_minor": 4
}
