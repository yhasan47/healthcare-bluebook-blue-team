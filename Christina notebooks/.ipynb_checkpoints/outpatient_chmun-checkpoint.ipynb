{
 "cells": [
  {
   "cell_type": "code",
   "execution_count": 44,
   "metadata": {},
   "outputs": [],
   "source": [
    "import pandas as pd\n",
    "import numpy as np\n",
    "import matplotlib.pyplot as plt\n",
    "import seaborn as sns\n",
    "\n",
    "%matplotlib inline"
   ]
  },
  {
   "cell_type": "code",
   "execution_count": 45,
   "metadata": {},
   "outputs": [
    {
     "data": {
      "text/plain": [
       "'1.0.1'"
      ]
     },
     "execution_count": 45,
     "metadata": {},
     "output_type": "execute_result"
    }
   ],
   "source": [
    "pd.__version__"
   ]
  },
  {
   "cell_type": "code",
   "execution_count": 46,
   "metadata": {},
   "outputs": [],
   "source": [
    "outpatient = '..\\data\\MUP_OHP_R19_P04_V10_D17_APC_Provider.xlsx'"
   ]
  },
  {
   "cell_type": "code",
   "execution_count": 47,
   "metadata": {},
   "outputs": [],
   "source": [
    "hospital_OP = pd.read_excel(outpatient, usecols=\"A:N\", header=5)"
   ]
  },
  {
   "cell_type": "code",
   "execution_count": 48,
   "metadata": {},
   "outputs": [],
   "source": [
    "#assign columns name based on numbers of columns\n",
    "hospital_OP.columns = ['Provider_ID', 'Provider_Name', 'Provider_Street', 'Provider_City', 'Provider_State', 'Provider_Zip', \n",
    "              'Provider_Hospital_Referral_Region','APC', 'APC_Description','Beneficiaries','Comprehensive_APC_Services',\n",
    "              'Avg_Est_Total_submitted_amt','Avg_Medicare_Allowed','Avg_Medicare_pymt']"
   ]
  },
  {
   "cell_type": "code",
   "execution_count": 49,
   "metadata": {},
   "outputs": [],
   "source": [
    "#change data type\n",
    "hospital_OP=hospital_OP.astype({'Provider_ID':'str','Provider_Zip':'str', 'APC':'str'})"
   ]
  },
  {
   "cell_type": "code",
   "execution_count": 50,
   "metadata": {},
   "outputs": [
    {
     "name": "stdout",
     "output_type": "stream",
     "text": [
      "<class 'pandas.core.frame.DataFrame'>\n",
      "RangeIndex: 61779 entries, 0 to 61778\n",
      "Data columns (total 14 columns):\n",
      " #   Column                             Non-Null Count  Dtype  \n",
      "---  ------                             --------------  -----  \n",
      " 0   Provider_ID                        61779 non-null  object \n",
      " 1   Provider_Name                      61779 non-null  object \n",
      " 2   Provider_Street                    61779 non-null  object \n",
      " 3   Provider_City                      61779 non-null  object \n",
      " 4   Provider_State                     61779 non-null  object \n",
      " 5   Provider_Zip                       61779 non-null  object \n",
      " 6   Provider_Hospital_Referral_Region  61779 non-null  object \n",
      " 7   APC                                61779 non-null  object \n",
      " 8   APC_Description                    61779 non-null  object \n",
      " 9   Beneficiaries                      60782 non-null  float64\n",
      " 10  Comprehensive_APC_Services         61779 non-null  int64  \n",
      " 11  Avg_Est_Total_submitted_amt        61779 non-null  float64\n",
      " 12  Avg_Medicare_Allowed               61779 non-null  float64\n",
      " 13  Avg_Medicare_pymt                  61779 non-null  float64\n",
      "dtypes: float64(4), int64(1), object(9)\n",
      "memory usage: 6.6+ MB\n"
     ]
    }
   ],
   "source": [
    "hospital_OP.info()"
   ]
  },
  {
   "cell_type": "code",
   "execution_count": 52,
   "metadata": {},
   "outputs": [],
   "source": [
    "hospital_OP.to_csv('outpatient.csv', index=False)"
   ]
  },
  {
   "cell_type": "code",
   "execution_count": null,
   "metadata": {},
   "outputs": [],
   "source": [
    "hospital_OP_5302 = hospital_OP[hospital_OP.APC == '5302']\n",
    "hospital_OP_5302.shape"
   ]
  },
  {
   "cell_type": "code",
   "execution_count": null,
   "metadata": {},
   "outputs": [],
   "source": [
    "hospital_OP_5302.to_csv('hospital_OP_5302.csv')"
   ]
  },
  {
   "cell_type": "code",
   "execution_count": null,
   "metadata": {},
   "outputs": [],
   "source": []
  },
  {
   "cell_type": "code",
   "execution_count": null,
   "metadata": {},
   "outputs": [],
   "source": [
    "#ZIP list for CBSA 34980\n",
    "CBSA_ZIP_list =['37010', '37011', '37012', '37013', '37014', '37015', '37016',\n",
    "       '37018', '37020', '37022', '37024', '37025', '37026', '37027',\n",
    "       '37029', '37030', '37031', '37032', '37035', '37036', '37037',\n",
    "       '37043', '37046', '37048', '37049', '37051', '37052', '37055',\n",
    "       '37056', '37057', '37060', '37062', '37063', '37064', '37065',\n",
    "       '37066', '37067', '37068', '37069', '37070', '37071', '37072',\n",
    "       '37073', '37074', '37075', '37076', '37077', '37080', '37082',\n",
    "       '37083', '37085', '37086', '37087', '37088', '37089', '37090',\n",
    "       '37091', '37095', '37101', '37110', '37115', '37116', '37118',\n",
    "       '37119', '37121', '37122', '37127', '37128', '37129', '37130',\n",
    "       '37131', '37132', '37133', '37135', '37138', '37141', '37143',\n",
    "       '37145', '37146', '37148', '37149', '37150', '37151', '37152',\n",
    "       '37153', '37160', '37165', '37166', '37167', '37171', '37172',\n",
    "       '37174', '37179', '37180', '37181', '37184', '37186', '37187',\n",
    "       '37188', '37189', '37190', '37201', '37202', '37203', '37204',\n",
    "       '37205', '37206', '37207', '37208', '37209', '37210', '37211',\n",
    "       '37212', '37213', '37214', '37215', '37216', '37217', '37218',\n",
    "       '37219', '37220', '37221', '37222', '37224', '37227', '37228',\n",
    "       '37229', '37232', '37234', '37235', '37236', '37238', '37240',\n",
    "       '37242', '37243', '37246', '37250', '37357', '38401', '38402',\n",
    "       '38451', '38454', '38461', '38472', '38474', '38476', '38482',\n",
    "       '38483', '38487', '38547', '38548', '38552', '38560', '38563',\n",
    "       '38567', '38569', '38588']"
   ]
  },
  {
   "cell_type": "code",
   "execution_count": null,
   "metadata": {},
   "outputs": [],
   "source": [
    "hospital_nashville_5302 = hospital_OP_5302[hospital_OP_5302.Provider_Zip.isin(CBSA_ZIP_list)]\n",
    "hospital_nashville_5302.describe()"
   ]
  },
  {
   "cell_type": "code",
   "execution_count": null,
   "metadata": {},
   "outputs": [],
   "source": [
    "hospital_nashville_5302[['Provider_Name','Provider_City','Provider_Zip','Avg_Medicare_Allowed','Avg_Medicare_pymt']][hospital_nashville_5302['Avg_Medicare_Allowed']>=1208.848899]"
   ]
  },
  {
   "cell_type": "code",
   "execution_count": null,
   "metadata": {},
   "outputs": [],
   "source": [
    "hospital_nashville_5302.shape"
   ]
  },
  {
   "cell_type": "code",
   "execution_count": null,
   "metadata": {},
   "outputs": [],
   "source": [
    "hospital_nashville_5302_drop = hospital_nashville_5302.drop_duplicates()\n",
    "hospital_nashville_5302_drop.shape"
   ]
  },
  {
   "cell_type": "code",
   "execution_count": null,
   "metadata": {},
   "outputs": [],
   "source": [
    "lowest_10_allowedamt =hospital_nashville_5302.nsmallest(3, 'Avg_Medicare_Allowed')\n",
    "lowest_10_allowedamt"
   ]
  },
  {
   "cell_type": "code",
   "execution_count": null,
   "metadata": {},
   "outputs": [],
   "source": [
    "lowest_10_allowedamt =hospital_nashville_5302.nlargest(3, 'Avg_Medicare_Allowed')\n",
    "lowest_10_allowedamt"
   ]
  },
  {
   "cell_type": "code",
   "execution_count": null,
   "metadata": {},
   "outputs": [],
   "source": [
    "hospital_nashville_5302['Avg_Medicare_Allowed'].min()"
   ]
  },
  {
   "cell_type": "code",
   "execution_count": null,
   "metadata": {},
   "outputs": [],
   "source": [
    "hospital_nashville_5302['Avg_Medicare_Allowed'].max()"
   ]
  },
  {
   "cell_type": "code",
   "execution_count": null,
   "metadata": {},
   "outputs": [],
   "source": [
    "hospital_nashville_5302.to_csv('hospital_nashville_5302.csv', index=False)"
   ]
  },
  {
   "cell_type": "code",
   "execution_count": null,
   "metadata": {},
   "outputs": [],
   "source": [
    "plt.figure(figsize=(8,6))\n",
    "ax = sns.scatterplot(x='Provider_Zip', y=\"Avg_Medicare_Allowed\", hue =\"Provider_City\", data= hospital_nashville_5302, legend=None)\n",
    "#ax.set_xticklabels(ax.get_xticklabels(), rotation=45, horizontalalignment='right')\n",
    "plt.xticks(rotation=90, horizontalalignment='right',fontweight='light',fontsize='x-large')"
   ]
  },
  {
   "cell_type": "code",
   "execution_count": null,
   "metadata": {},
   "outputs": [],
   "source": [
    "hospital_nashville_5302.groupby('Provider_City').Avg_Medicare_Allowed.agg(['max','mean','min'])"
   ]
  },
  {
   "cell_type": "code",
   "execution_count": null,
   "metadata": {},
   "outputs": [],
   "source": [
    "result = hospital_nashville_5302.groupby(['Provider_City','Provider_Name'])\n",
    "result.first()"
   ]
  },
  {
   "cell_type": "code",
   "execution_count": null,
   "metadata": {},
   "outputs": [],
   "source": []
  },
  {
   "cell_type": "code",
   "execution_count": null,
   "metadata": {},
   "outputs": [],
   "source": [
    "hospital_ASC5113=hospital_OP[['Provider_Name', 'Provider_State','Provider_Zip', 'Provider_Hospital_Referral_Region','APC','APC_Description','Avg_Medicare_Allowed']][hospital_OP['APC']=='5113']"
   ]
  },
  {
   "cell_type": "code",
   "execution_count": null,
   "metadata": {},
   "outputs": [],
   "source": [
    "hospital_ASC5113.max()"
   ]
  },
  {
   "cell_type": "markdown",
   "metadata": {},
   "source": [
    "#### Find well populated APC in Hospital_Outpatient file"
   ]
  },
  {
   "cell_type": "code",
   "execution_count": 43,
   "metadata": {},
   "outputs": [
    {
     "data": {
      "text/plain": [
       "8011     True\n",
       "5072     True\n",
       "5113     True\n",
       "5361     True\n",
       "5114     True\n",
       "5341     True\n",
       "5302     True\n",
       "5375     True\n",
       "5112     True\n",
       "5373     True\n",
       "5374    False\n",
       "5431    False\n",
       "5191    False\n",
       "5073    False\n",
       "5193    False\n",
       "5491    False\n",
       "5223    False\n",
       "5091    False\n",
       "5092    False\n",
       "5414    False\n",
       "5192    False\n",
       "5115    False\n",
       "5154    False\n",
       "5362    False\n",
       "5153    False\n",
       "5194    False\n",
       "5232    False\n",
       "5222    False\n",
       "5415    False\n",
       "5165    False\n",
       "5213    False\n",
       "5313    False\n",
       "5492    False\n",
       "5303    False\n",
       "5155    False\n",
       "5164    False\n",
       "5503    False\n",
       "5464    False\n",
       "5231    False\n",
       "5331    False\n",
       "5462    False\n",
       "5463    False\n",
       "5376    False\n",
       "5627    False\n",
       "5416    False\n",
       "5377    False\n",
       "5224    False\n",
       "5212    False\n",
       "5504    False\n",
       "5471    False\n",
       "5166    False\n",
       "5116    False\n",
       "5094    False\n",
       "5432    False\n",
       "5093    False\n",
       "5200    False\n",
       "5211    False\n",
       "5493    False\n",
       "Name: APC, dtype: bool"
      ]
     },
     "execution_count": 43,
     "metadata": {},
     "output_type": "execute_result"
    }
   ],
   "source": [
    "hospital_OP.APC.value_counts() > 2000"
   ]
  },
  {
   "cell_type": "code",
   "execution_count": 26,
   "metadata": {},
   "outputs": [],
   "source": [
    "checking = hospital_OP[hospital_OP.APC == '5114']"
   ]
  },
  {
   "cell_type": "code",
   "execution_count": 29,
   "metadata": {},
   "outputs": [
    {
     "data": {
      "text/html": [
       "<div>\n",
       "<style scoped>\n",
       "    .dataframe tbody tr th:only-of-type {\n",
       "        vertical-align: middle;\n",
       "    }\n",
       "\n",
       "    .dataframe tbody tr th {\n",
       "        vertical-align: top;\n",
       "    }\n",
       "\n",
       "    .dataframe thead th {\n",
       "        text-align: right;\n",
       "    }\n",
       "</style>\n",
       "<table border=\"1\" class=\"dataframe\">\n",
       "  <thead>\n",
       "    <tr style=\"text-align: right;\">\n",
       "      <th></th>\n",
       "      <th>Provider_ID</th>\n",
       "      <th>Provider_Name</th>\n",
       "      <th>Provider_Street</th>\n",
       "      <th>Provider_City</th>\n",
       "      <th>Provider_State</th>\n",
       "      <th>Provider_Zip</th>\n",
       "      <th>Provider_Hospital_Referral_Region</th>\n",
       "      <th>APC</th>\n",
       "      <th>APC_Description</th>\n",
       "      <th>Beneficiaries</th>\n",
       "      <th>Comprehensive_APC_Services</th>\n",
       "      <th>Avg_Est_Total_submitted_amt</th>\n",
       "      <th>Avg_Medicare_Allowed</th>\n",
       "      <th>Avg_Medicare_pymt</th>\n",
       "    </tr>\n",
       "  </thead>\n",
       "  <tbody>\n",
       "    <tr>\n",
       "      <th>35471</th>\n",
       "      <td>330003</td>\n",
       "      <td>Albany Memorial Hospital</td>\n",
       "      <td>600 Northern Boulevard</td>\n",
       "      <td>Albany</td>\n",
       "      <td>NY</td>\n",
       "      <td>12204</td>\n",
       "      <td>NY - Albany</td>\n",
       "      <td>5114</td>\n",
       "      <td>Level 4 Musculoskeletal Procedures</td>\n",
       "      <td>55.0</td>\n",
       "      <td>56</td>\n",
       "      <td>11507.115179</td>\n",
       "      <td>4789.050000</td>\n",
       "      <td>3815.660000</td>\n",
       "    </tr>\n",
       "    <tr>\n",
       "      <th>35511</th>\n",
       "      <td>330005</td>\n",
       "      <td>Kaleida Health</td>\n",
       "      <td>726 Exchange Street, Suite 522</td>\n",
       "      <td>Buffalo</td>\n",
       "      <td>NY</td>\n",
       "      <td>14210</td>\n",
       "      <td>NY - Buffalo</td>\n",
       "      <td>5114</td>\n",
       "      <td>Level 4 Musculoskeletal Procedures</td>\n",
       "      <td>108.0</td>\n",
       "      <td>112</td>\n",
       "      <td>20500.245804</td>\n",
       "      <td>5061.461964</td>\n",
       "      <td>3994.831964</td>\n",
       "    </tr>\n",
       "    <tr>\n",
       "      <th>35549</th>\n",
       "      <td>330006</td>\n",
       "      <td>St Joseph's Medical Center</td>\n",
       "      <td>127 South Broadway</td>\n",
       "      <td>Yonkers</td>\n",
       "      <td>NY</td>\n",
       "      <td>10701</td>\n",
       "      <td>NY - White Plains</td>\n",
       "      <td>5114</td>\n",
       "      <td>Level 4 Musculoskeletal Procedures</td>\n",
       "      <td>14.0</td>\n",
       "      <td>14</td>\n",
       "      <td>3802.500000</td>\n",
       "      <td>6218.560000</td>\n",
       "      <td>4954.620000</td>\n",
       "    </tr>\n",
       "    <tr>\n",
       "      <th>35568</th>\n",
       "      <td>330011</td>\n",
       "      <td>Our Lady Of Lourdes Memorial Hospital, Inc</td>\n",
       "      <td>169 Riverside Drive</td>\n",
       "      <td>Binghamton</td>\n",
       "      <td>NY</td>\n",
       "      <td>13905</td>\n",
       "      <td>NY - Binghamton</td>\n",
       "      <td>5114</td>\n",
       "      <td>Level 4 Musculoskeletal Procedures</td>\n",
       "      <td>88.0</td>\n",
       "      <td>90</td>\n",
       "      <td>17350.476444</td>\n",
       "      <td>4789.050000</td>\n",
       "      <td>3815.660000</td>\n",
       "    </tr>\n",
       "    <tr>\n",
       "      <th>35595</th>\n",
       "      <td>330013</td>\n",
       "      <td>Albany Medical Center Hospital</td>\n",
       "      <td>43 New Scotland Avenue, Mail Code 34</td>\n",
       "      <td>Albany</td>\n",
       "      <td>NY</td>\n",
       "      <td>12208</td>\n",
       "      <td>NY - Albany</td>\n",
       "      <td>5114</td>\n",
       "      <td>Level 4 Musculoskeletal Procedures</td>\n",
       "      <td>135.0</td>\n",
       "      <td>136</td>\n",
       "      <td>12636.082794</td>\n",
       "      <td>4789.050368</td>\n",
       "      <td>3815.643529</td>\n",
       "    </tr>\n",
       "    <tr>\n",
       "      <th>...</th>\n",
       "      <td>...</td>\n",
       "      <td>...</td>\n",
       "      <td>...</td>\n",
       "      <td>...</td>\n",
       "      <td>...</td>\n",
       "      <td>...</td>\n",
       "      <td>...</td>\n",
       "      <td>...</td>\n",
       "      <td>...</td>\n",
       "      <td>...</td>\n",
       "      <td>...</td>\n",
       "      <td>...</td>\n",
       "      <td>...</td>\n",
       "      <td>...</td>\n",
       "    </tr>\n",
       "    <tr>\n",
       "      <th>38183</th>\n",
       "      <td>330386</td>\n",
       "      <td>Catskill Regional Medical Center</td>\n",
       "      <td>68 Harris Bushville Road</td>\n",
       "      <td>Harris</td>\n",
       "      <td>NY</td>\n",
       "      <td>12742</td>\n",
       "      <td>NY - Albany</td>\n",
       "      <td>5114</td>\n",
       "      <td>Level 4 Musculoskeletal Procedures</td>\n",
       "      <td>14.0</td>\n",
       "      <td>14</td>\n",
       "      <td>13882.368571</td>\n",
       "      <td>5229.071429</td>\n",
       "      <td>4093.904286</td>\n",
       "    </tr>\n",
       "    <tr>\n",
       "      <th>38193</th>\n",
       "      <td>330393</td>\n",
       "      <td>University Hospital</td>\n",
       "      <td>Health Sciences Center Suny</td>\n",
       "      <td>Stony Brook</td>\n",
       "      <td>NY</td>\n",
       "      <td>11794</td>\n",
       "      <td>NY - East Long Island</td>\n",
       "      <td>5114</td>\n",
       "      <td>Level 4 Musculoskeletal Procedures</td>\n",
       "      <td>126.0</td>\n",
       "      <td>129</td>\n",
       "      <td>15391.312481</td>\n",
       "      <td>6110.435891</td>\n",
       "      <td>4846.495891</td>\n",
       "    </tr>\n",
       "    <tr>\n",
       "      <th>38234</th>\n",
       "      <td>330394</td>\n",
       "      <td>United Health Services Hospitals, Inc</td>\n",
       "      <td>10-42 Mitchell Avenue</td>\n",
       "      <td>Binghamton</td>\n",
       "      <td>NY</td>\n",
       "      <td>13903</td>\n",
       "      <td>NY - Binghamton</td>\n",
       "      <td>5114</td>\n",
       "      <td>Level 4 Musculoskeletal Procedures</td>\n",
       "      <td>148.0</td>\n",
       "      <td>151</td>\n",
       "      <td>19742.257881</td>\n",
       "      <td>4713.255298</td>\n",
       "      <td>3739.208278</td>\n",
       "    </tr>\n",
       "    <tr>\n",
       "      <th>38284</th>\n",
       "      <td>330399</td>\n",
       "      <td>St Barnabas Hospital</td>\n",
       "      <td>4422 Third Avenue</td>\n",
       "      <td>Bronx</td>\n",
       "      <td>NY</td>\n",
       "      <td>10457</td>\n",
       "      <td>NY - Bronx</td>\n",
       "      <td>5114</td>\n",
       "      <td>Level 4 Musculoskeletal Procedures</td>\n",
       "      <td>14.0</td>\n",
       "      <td>15</td>\n",
       "      <td>26503.903333</td>\n",
       "      <td>6218.560000</td>\n",
       "      <td>4954.620000</td>\n",
       "    </tr>\n",
       "    <tr>\n",
       "      <th>38293</th>\n",
       "      <td>330401</td>\n",
       "      <td>St Catherine Of Siena Hospital</td>\n",
       "      <td>50 Route 25a</td>\n",
       "      <td>Smithtown</td>\n",
       "      <td>NY</td>\n",
       "      <td>11787</td>\n",
       "      <td>NY - East Long Island</td>\n",
       "      <td>5114</td>\n",
       "      <td>Level 4 Musculoskeletal Procedures</td>\n",
       "      <td>77.0</td>\n",
       "      <td>78</td>\n",
       "      <td>32928.773846</td>\n",
       "      <td>6218.560000</td>\n",
       "      <td>4954.620000</td>\n",
       "    </tr>\n",
       "  </tbody>\n",
       "</table>\n",
       "<p>111 rows × 14 columns</p>\n",
       "</div>"
      ],
      "text/plain": [
       "      Provider_ID                               Provider_Name  \\\n",
       "35471      330003                    Albany Memorial Hospital   \n",
       "35511      330005                              Kaleida Health   \n",
       "35549      330006                  St Joseph's Medical Center   \n",
       "35568      330011  Our Lady Of Lourdes Memorial Hospital, Inc   \n",
       "35595      330013              Albany Medical Center Hospital   \n",
       "...           ...                                         ...   \n",
       "38183      330386            Catskill Regional Medical Center   \n",
       "38193      330393                         University Hospital   \n",
       "38234      330394       United Health Services Hospitals, Inc   \n",
       "38284      330399                        St Barnabas Hospital   \n",
       "38293      330401              St Catherine Of Siena Hospital   \n",
       "\n",
       "                            Provider_Street Provider_City Provider_State  \\\n",
       "35471                600 Northern Boulevard        Albany             NY   \n",
       "35511        726 Exchange Street, Suite 522       Buffalo             NY   \n",
       "35549                    127 South Broadway       Yonkers             NY   \n",
       "35568                   169 Riverside Drive    Binghamton             NY   \n",
       "35595  43 New Scotland Avenue, Mail Code 34        Albany             NY   \n",
       "...                                     ...           ...            ...   \n",
       "38183              68 Harris Bushville Road        Harris             NY   \n",
       "38193           Health Sciences Center Suny   Stony Brook             NY   \n",
       "38234                 10-42 Mitchell Avenue    Binghamton             NY   \n",
       "38284                     4422 Third Avenue         Bronx             NY   \n",
       "38293                          50 Route 25a     Smithtown             NY   \n",
       "\n",
       "      Provider_Zip Provider_Hospital_Referral_Region   APC  \\\n",
       "35471        12204                       NY - Albany  5114   \n",
       "35511        14210                      NY - Buffalo  5114   \n",
       "35549        10701                 NY - White Plains  5114   \n",
       "35568        13905                   NY - Binghamton  5114   \n",
       "35595        12208                       NY - Albany  5114   \n",
       "...            ...                               ...   ...   \n",
       "38183        12742                       NY - Albany  5114   \n",
       "38193        11794             NY - East Long Island  5114   \n",
       "38234        13903                   NY - Binghamton  5114   \n",
       "38284        10457                        NY - Bronx  5114   \n",
       "38293        11787             NY - East Long Island  5114   \n",
       "\n",
       "                          APC_Description  Beneficiaries  \\\n",
       "35471  Level 4 Musculoskeletal Procedures           55.0   \n",
       "35511  Level 4 Musculoskeletal Procedures          108.0   \n",
       "35549  Level 4 Musculoskeletal Procedures           14.0   \n",
       "35568  Level 4 Musculoskeletal Procedures           88.0   \n",
       "35595  Level 4 Musculoskeletal Procedures          135.0   \n",
       "...                                   ...            ...   \n",
       "38183  Level 4 Musculoskeletal Procedures           14.0   \n",
       "38193  Level 4 Musculoskeletal Procedures          126.0   \n",
       "38234  Level 4 Musculoskeletal Procedures          148.0   \n",
       "38284  Level 4 Musculoskeletal Procedures           14.0   \n",
       "38293  Level 4 Musculoskeletal Procedures           77.0   \n",
       "\n",
       "       Comprehensive_APC_Services  Avg_Est_Total_submitted_amt  \\\n",
       "35471                          56                 11507.115179   \n",
       "35511                         112                 20500.245804   \n",
       "35549                          14                  3802.500000   \n",
       "35568                          90                 17350.476444   \n",
       "35595                         136                 12636.082794   \n",
       "...                           ...                          ...   \n",
       "38183                          14                 13882.368571   \n",
       "38193                         129                 15391.312481   \n",
       "38234                         151                 19742.257881   \n",
       "38284                          15                 26503.903333   \n",
       "38293                          78                 32928.773846   \n",
       "\n",
       "       Avg_Medicare_Allowed  Avg_Medicare_pymt  \n",
       "35471           4789.050000        3815.660000  \n",
       "35511           5061.461964        3994.831964  \n",
       "35549           6218.560000        4954.620000  \n",
       "35568           4789.050000        3815.660000  \n",
       "35595           4789.050368        3815.643529  \n",
       "...                     ...                ...  \n",
       "38183           5229.071429        4093.904286  \n",
       "38193           6110.435891        4846.495891  \n",
       "38234           4713.255298        3739.208278  \n",
       "38284           6218.560000        4954.620000  \n",
       "38293           6218.560000        4954.620000  \n",
       "\n",
       "[111 rows x 14 columns]"
      ]
     },
     "execution_count": 29,
     "metadata": {},
     "output_type": "execute_result"
    }
   ],
   "source": [
    "checking[['Provider_Zip', ]][checking.Provider_State == 'NY']\n"
   ]
  },
  {
   "cell_type": "markdown",
   "metadata": {},
   "source": [
    "generate code to see if which CBSA numbers are"
   ]
  },
  {
   "cell_type": "code",
   "execution_count": null,
   "metadata": {},
   "outputs": [],
   "source": [
    "zip_cbsa.csv'"
   ]
  }
 ],
 "metadata": {
  "kernelspec": {
   "display_name": "Python 3",
   "language": "python",
   "name": "python3"
  },
  "language_info": {
   "codemirror_mode": {
    "name": "ipython",
    "version": 3
   },
   "file_extension": ".py",
   "mimetype": "text/x-python",
   "name": "python",
   "nbconvert_exporter": "python",
   "pygments_lexer": "ipython3",
   "version": "3.7.6"
  }
 },
 "nbformat": 4,
 "nbformat_minor": 4
}
